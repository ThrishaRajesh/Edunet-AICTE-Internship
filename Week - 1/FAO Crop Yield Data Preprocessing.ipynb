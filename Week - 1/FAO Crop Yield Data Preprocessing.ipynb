{
 "cells": [
  {
   "cell_type": "markdown",
   "id": "9f3d83b2-401a-477f-b40d-9e6dc4242425",
   "metadata": {},
   "source": [
    "<strong>Loading and cleaning FAO crop yield dataset</strong>"
   ]
  },
  {
   "cell_type": "code",
   "execution_count": 7,
   "id": "69debc55-1081-45ff-a1f8-2f1e1fc9001b",
   "metadata": {},
   "outputs": [
    {
     "name": "stdout",
     "output_type": "stream",
     "text": [
      "FAO crop yield dataset successfully downloaded!\n"
     ]
    }
   ],
   "source": [
    "import pandas as pd\n",
    "\n",
    "# 1. Load your renamed FAO dataset\n",
    "df = pd.read_csv(\"FAOSTAT_crop_yield_india.csv\")\n",
    "print(\"FAO crop yield dataset successfully downloaded!\")"
   ]
  },
  {
   "cell_type": "code",
   "execution_count": 8,
   "id": "c0e896cf-7efc-43d1-96c7-58fc129b7229",
   "metadata": {},
   "outputs": [
    {
     "name": "stdout",
     "output_type": "stream",
     "text": [
      "Initial shape: (143, 15)\n",
      "Index(['Domain Code', 'Domain', 'Area Code (M49)', 'Area', 'Element Code',\n",
      "       'Element', 'Item Code (CPC)', 'Item', 'Year Code', 'Year', 'Unit',\n",
      "       'Value', 'Flag', 'Flag Description', 'Note'],\n",
      "      dtype='object')\n"
     ]
    }
   ],
   "source": [
    "# 2. View structure \n",
    "print(\"Initial shape:\", df.shape)\n",
    "print(df.columns)"
   ]
  },
  {
   "cell_type": "code",
   "execution_count": 9,
   "id": "e9d8588c-c9bf-4170-bc45-16a3fe59a42d",
   "metadata": {},
   "outputs": [],
   "source": [
    "# 3. Keep only relevant columns\n",
    "df = df[['Item', 'Year', 'Element', 'Value', 'Unit']]"
   ]
  },
  {
   "cell_type": "code",
   "execution_count": 10,
   "id": "c71f155e-6bb1-4fc7-a18f-5f1633635dba",
   "metadata": {},
   "outputs": [],
   "source": [
    "# 4. Rename columns \n",
    "df = df.rename(columns={\n",
    "    'Item': 'Crop',\n",
    "    'Value': 'Yield_kg_per_ha'\n",
    "})"
   ]
  },
  {
   "cell_type": "code",
   "execution_count": 11,
   "id": "b0ac8341-1e86-4e9c-92b4-c3e73a303ce3",
   "metadata": {},
   "outputs": [],
   "source": [
    "# 5. Convert year to int \n",
    "df['Year'] = df['Year'].astype(int)"
   ]
  },
  {
   "cell_type": "code",
   "execution_count": 12,
   "id": "aa8caa2d-d8a5-445f-80e1-d8f3a38337b2",
   "metadata": {},
   "outputs": [],
   "source": [
    "# 6. Sort by Crop and Year\n",
    "df = df.sort_values(by=['Crop', 'Year']).reset_index(drop=True)"
   ]
  },
  {
   "cell_type": "code",
   "execution_count": 13,
   "id": "5e0ae305-77fd-4d6b-bb04-92575d305ab7",
   "metadata": {},
   "outputs": [
    {
     "name": "stdout",
     "output_type": "stream",
     "text": [
      "\n",
      "Cleaned Data Preview:\n",
      "     Crop  Year Element  Yield_kg_per_ha   Unit\n",
      "0  Apples  2013   Yield           6137.8  kg/ha\n",
      "1  Apples  2014   Yield           7978.8  kg/ha\n",
      "2  Apples  2015   Yield           6689.7  kg/ha\n",
      "3  Apples  2016   Yield           9101.1  kg/ha\n",
      "4  Apples  2017   Yield           7426.2  kg/ha\n",
      "5  Apples  2018   Yield           7730.9  kg/ha\n",
      "6  Apples  2019   Yield           7519.5  kg/ha\n",
      "7  Apples  2020   Yield           9077.4  kg/ha\n",
      "8  Apples  2021   Yield           7271.6  kg/ha\n",
      "9  Apples  2022   Yield           8219.0  kg/ha\n"
     ]
    }
   ],
   "source": [
    "# 7. View sample of cleaned data\n",
    "print(\"\\nCleaned Data Preview:\")\n",
    "print(df.head(10))"
   ]
  },
  {
   "cell_type": "code",
   "execution_count": 14,
   "id": "80bb31f2-30b4-4433-918d-67d47135e8d8",
   "metadata": {},
   "outputs": [
    {
     "name": "stdout",
     "output_type": "stream",
     "text": [
      "\n",
      "Cleaned dataset saved as 'cleaned_crop_yield_india.csv'\n"
     ]
    }
   ],
   "source": [
    "# 8. Save cleaned version for modeling/visualization\n",
    "df.to_csv(\"cleaned_crop_yield_india.csv\", index=False)\n",
    "\n",
    "print(\"\\nCleaned dataset saved as 'cleaned_crop_yield_india.csv'\")"
   ]
  },
  {
   "cell_type": "markdown",
   "id": "1fb8b6e1-6fe0-4349-af1a-a3b5bed6399f",
   "metadata": {},
   "source": [
    "<br><strong>Extracting and Using Real Weather Data from OpenWeatherMap API.</br></strong>"
   ]
  },
  {
   "cell_type": "code",
   "execution_count": 15,
   "id": "d7bbfe47-f993-4620-8870-a2f0b7c78187",
   "metadata": {},
   "outputs": [],
   "source": [
    "import requests\n",
    "import pandas as pd\n",
    "\n",
    "# Step 1: OpenWeatherMap API Key\n",
    "API_KEY = '966f257ca42e9f6977a34e3c6b319412'"
   ]
  },
  {
   "cell_type": "code",
   "execution_count": 16,
   "id": "a55671ff-30fb-449b-a87a-3502ab4fa73f",
   "metadata": {},
   "outputs": [],
   "source": [
    "# Step 2: Set Location (India center)\n",
    "lat = 20.5937\n",
    "lon = 78.9629"
   ]
  },
  {
   "cell_type": "code",
   "execution_count": 17,
   "id": "4cf7c7ef-b560-4221-809f-00ef3718f312",
   "metadata": {},
   "outputs": [],
   "source": [
    "# Step 3: Construct the API URL\n",
    "url = (\n",
    "    f\"https://api.openweathermap.org/data/2.5/forecast?\"\n",
    "    f\"lat={lat}&lon={lon}&appid={API_KEY}&units=metric\"\n",
    ")"
   ]
  },
  {
   "cell_type": "code",
   "execution_count": 18,
   "id": "3f1ef367-675c-413b-9aa1-366d6c121879",
   "metadata": {},
   "outputs": [],
   "source": [
    "# Step 4: Send Request and Get JSON\n",
    "response = requests.get(url)\n",
    "data = response.json()"
   ]
  },
  {
   "cell_type": "code",
   "execution_count": 19,
   "id": "d5e8de3e-8bd2-496f-a135-c6c43a720380",
   "metadata": {},
   "outputs": [],
   "source": [
    "# Step 5: Extract Relevant Data\n",
    "weather_data = []\n",
    "for entry in data['list']:\n",
    "    dt = entry['dt_txt']\n",
    "    temp = entry['main']['temp']\n",
    "    humidity = entry['main']['humidity']\n",
    "    rain = entry.get('rain', {}).get('3h', 0)  # Safe access if no rain\n",
    "    \n",
    "    weather_data.append({\n",
    "        'DateTime': dt,\n",
    "        'Temperature_C': temp,\n",
    "        'Humidity_%': humidity,\n",
    "        'Rainfall_mm': rain\n",
    "    })"
   ]
  },
  {
   "cell_type": "code",
   "execution_count": 20,
   "id": "9c6f3733-7dff-47d5-b9c7-663ed0921eef",
   "metadata": {},
   "outputs": [
    {
     "data": {
      "text/html": [
       "<div>\n",
       "<style scoped>\n",
       "    .dataframe tbody tr th:only-of-type {\n",
       "        vertical-align: middle;\n",
       "    }\n",
       "\n",
       "    .dataframe tbody tr th {\n",
       "        vertical-align: top;\n",
       "    }\n",
       "\n",
       "    .dataframe thead th {\n",
       "        text-align: right;\n",
       "    }\n",
       "</style>\n",
       "<table border=\"1\" class=\"dataframe\">\n",
       "  <thead>\n",
       "    <tr style=\"text-align: right;\">\n",
       "      <th></th>\n",
       "      <th>DateTime</th>\n",
       "      <th>Temperature_C</th>\n",
       "      <th>Humidity_%</th>\n",
       "      <th>Rainfall_mm</th>\n",
       "    </tr>\n",
       "  </thead>\n",
       "  <tbody>\n",
       "    <tr>\n",
       "      <th>0</th>\n",
       "      <td>2025-06-19 09:00:00</td>\n",
       "      <td>34.19</td>\n",
       "      <td>46</td>\n",
       "      <td>0.57</td>\n",
       "    </tr>\n",
       "    <tr>\n",
       "      <th>1</th>\n",
       "      <td>2025-06-19 12:00:00</td>\n",
       "      <td>33.78</td>\n",
       "      <td>47</td>\n",
       "      <td>0.78</td>\n",
       "    </tr>\n",
       "    <tr>\n",
       "      <th>2</th>\n",
       "      <td>2025-06-19 15:00:00</td>\n",
       "      <td>29.31</td>\n",
       "      <td>68</td>\n",
       "      <td>5.65</td>\n",
       "    </tr>\n",
       "    <tr>\n",
       "      <th>3</th>\n",
       "      <td>2025-06-19 18:00:00</td>\n",
       "      <td>26.72</td>\n",
       "      <td>61</td>\n",
       "      <td>3.64</td>\n",
       "    </tr>\n",
       "    <tr>\n",
       "      <th>4</th>\n",
       "      <td>2025-06-19 21:00:00</td>\n",
       "      <td>27.28</td>\n",
       "      <td>65</td>\n",
       "      <td>0.10</td>\n",
       "    </tr>\n",
       "  </tbody>\n",
       "</table>\n",
       "</div>"
      ],
      "text/plain": [
       "              DateTime  Temperature_C  Humidity_%  Rainfall_mm\n",
       "0  2025-06-19 09:00:00          34.19          46         0.57\n",
       "1  2025-06-19 12:00:00          33.78          47         0.78\n",
       "2  2025-06-19 15:00:00          29.31          68         5.65\n",
       "3  2025-06-19 18:00:00          26.72          61         3.64\n",
       "4  2025-06-19 21:00:00          27.28          65         0.10"
      ]
     },
     "execution_count": 20,
     "metadata": {},
     "output_type": "execute_result"
    }
   ],
   "source": [
    "# Step 6: Create DataFrame\n",
    "forecast_df = pd.DataFrame(weather_data)\n",
    "forecast_df.to_csv('forecast_weather_data.csv', index=False) #save the dataframe\n",
    "forecast_df.head() #to view top 5 rows "
   ]
  },
  {
   "cell_type": "markdown",
   "id": "5b81e7b4-e594-422c-b63a-24bd2f171a1b",
   "metadata": {},
   "source": [
    "<br><strong>Add Satellite Imagery via NDVI Features: Using Google Earth Engine (GEE)</br></strong>"
   ]
  },
  {
   "cell_type": "code",
   "execution_count": 22,
   "id": "922dd212-ac28-4a50-bf7f-991bfb02151c",
   "metadata": {},
   "outputs": [
    {
     "name": "stdout",
     "output_type": "stream",
     "text": [
      "Defaulting to user installation because normal site-packages is not writeable\n",
      "Collecting earthengine-api\n",
      "  Downloading earthengine_api-1.5.20-py3-none-any.whl.metadata (2.1 kB)\n",
      "Collecting google-cloud-storage (from earthengine-api)\n",
      "  Downloading google_cloud_storage-3.1.1-py3-none-any.whl.metadata (13 kB)\n",
      "Collecting google-api-python-client>=1.12.1 (from earthengine-api)\n",
      "  Downloading google_api_python_client-2.172.0-py3-none-any.whl.metadata (7.0 kB)\n",
      "Collecting google-auth>=1.4.1 (from earthengine-api)\n",
      "  Downloading google_auth-2.40.3-py2.py3-none-any.whl.metadata (6.2 kB)\n",
      "Collecting google-auth-httplib2>=0.0.3 (from earthengine-api)\n",
      "  Downloading google_auth_httplib2-0.2.0-py2.py3-none-any.whl.metadata (2.2 kB)\n",
      "Collecting httplib2<1dev,>=0.9.2 (from earthengine-api)\n",
      "  Downloading httplib2-0.22.0-py3-none-any.whl.metadata (2.6 kB)\n",
      "Requirement already satisfied: requests in c:\\users\\thris\\appdata\\roaming\\python\\python312\\site-packages (from earthengine-api) (2.32.3)\n",
      "Collecting google-api-core!=2.0.*,!=2.1.*,!=2.2.*,!=2.3.0,<3.0.0,>=1.31.5 (from google-api-python-client>=1.12.1->earthengine-api)\n",
      "  Downloading google_api_core-2.25.1-py3-none-any.whl.metadata (3.0 kB)\n",
      "Collecting uritemplate<5,>=3.0.1 (from google-api-python-client>=1.12.1->earthengine-api)\n",
      "  Downloading uritemplate-4.2.0-py3-none-any.whl.metadata (2.6 kB)\n",
      "Requirement already satisfied: cachetools<6.0,>=2.0.0 in c:\\users\\thris\\appdata\\roaming\\python\\python312\\site-packages (from google-auth>=1.4.1->earthengine-api) (5.5.2)\n",
      "Requirement already satisfied: pyasn1-modules>=0.2.1 in c:\\programdata\\anaconda3\\lib\\site-packages (from google-auth>=1.4.1->earthengine-api) (0.2.8)\n",
      "Collecting rsa<5,>=3.1.4 (from google-auth>=1.4.1->earthengine-api)\n",
      "  Downloading rsa-4.9.1-py3-none-any.whl.metadata (5.6 kB)\n",
      "Requirement already satisfied: pyparsing!=3.0.0,!=3.0.1,!=3.0.2,!=3.0.3,<4,>=2.4.2 in c:\\users\\thris\\appdata\\roaming\\python\\python312\\site-packages (from httplib2<1dev,>=0.9.2->earthengine-api) (3.2.1)\n",
      "Collecting google-cloud-core<3.0.0,>=2.4.2 (from google-cloud-storage->earthengine-api)\n",
      "  Downloading google_cloud_core-2.4.3-py2.py3-none-any.whl.metadata (2.7 kB)\n",
      "Collecting google-resumable-media<3.0.0,>=2.7.2 (from google-cloud-storage->earthengine-api)\n",
      "  Downloading google_resumable_media-2.7.2-py2.py3-none-any.whl.metadata (2.2 kB)\n",
      "Collecting google-crc32c<2.0.0,>=1.1.3 (from google-cloud-storage->earthengine-api)\n",
      "  Downloading google_crc32c-1.7.1-cp312-cp312-win_amd64.whl.metadata (2.4 kB)\n",
      "Requirement already satisfied: charset-normalizer<4,>=2 in c:\\users\\thris\\appdata\\roaming\\python\\python312\\site-packages (from requests->earthengine-api) (3.4.1)\n",
      "Requirement already satisfied: idna<4,>=2.5 in c:\\users\\thris\\appdata\\roaming\\python\\python312\\site-packages (from requests->earthengine-api) (3.10)\n",
      "Requirement already satisfied: urllib3<3,>=1.21.1 in c:\\users\\thris\\appdata\\roaming\\python\\python312\\site-packages (from requests->earthengine-api) (2.3.0)\n",
      "Requirement already satisfied: certifi>=2017.4.17 in c:\\users\\thris\\appdata\\roaming\\python\\python312\\site-packages (from requests->earthengine-api) (2025.1.31)\n",
      "Collecting googleapis-common-protos<2.0.0,>=1.56.2 (from google-api-core!=2.0.*,!=2.1.*,!=2.2.*,!=2.3.0,<3.0.0,>=1.31.5->google-api-python-client>=1.12.1->earthengine-api)\n",
      "  Downloading googleapis_common_protos-1.70.0-py3-none-any.whl.metadata (9.3 kB)\n",
      "Requirement already satisfied: protobuf!=3.20.0,!=3.20.1,!=4.21.0,!=4.21.1,!=4.21.2,!=4.21.3,!=4.21.4,!=4.21.5,<7.0.0,>=3.19.5 in c:\\users\\thris\\appdata\\roaming\\python\\python312\\site-packages (from google-api-core!=2.0.*,!=2.1.*,!=2.2.*,!=2.3.0,<3.0.0,>=1.31.5->google-api-python-client>=1.12.1->earthengine-api) (5.29.4)\n",
      "Collecting proto-plus<2.0.0,>=1.22.3 (from google-api-core!=2.0.*,!=2.1.*,!=2.2.*,!=2.3.0,<3.0.0,>=1.31.5->google-api-python-client>=1.12.1->earthengine-api)\n",
      "  Downloading proto_plus-1.26.1-py3-none-any.whl.metadata (2.2 kB)\n",
      "Requirement already satisfied: pyasn1<0.5.0,>=0.4.6 in c:\\programdata\\anaconda3\\lib\\site-packages (from pyasn1-modules>=0.2.1->google-auth>=1.4.1->earthengine-api) (0.4.8)\n",
      "Downloading earthengine_api-1.5.20-py3-none-any.whl (462 kB)\n",
      "Downloading google_api_python_client-2.172.0-py3-none-any.whl (13.6 MB)\n",
      "   ---------------------------------------- 0.0/13.6 MB ? eta -:--:--\n",
      "   ---------------------------------------- 0.0/13.6 MB ? eta -:--:--\n",
      "    --------------------------------------- 0.3/13.6 MB ? eta -:--:--\n",
      "   - -------------------------------------- 0.5/13.6 MB 837.5 kB/s eta 0:00:16\n",
      "   - -------------------------------------- 0.5/13.6 MB 837.5 kB/s eta 0:00:16\n",
      "   -- ------------------------------------- 0.8/13.6 MB 780.2 kB/s eta 0:00:17\n",
      "   -- ------------------------------------- 0.8/13.6 MB 780.2 kB/s eta 0:00:17\n",
      "   --- ------------------------------------ 1.0/13.6 MB 645.1 kB/s eta 0:00:20\n",
      "   ---- ----------------------------------- 1.6/13.6 MB 873.8 kB/s eta 0:00:14\n",
      "   ----- ---------------------------------- 1.8/13.6 MB 958.5 kB/s eta 0:00:13\n",
      "   ------ --------------------------------- 2.4/13.6 MB 1.1 MB/s eta 0:00:11\n",
      "   ------ --------------------------------- 2.4/13.6 MB 1.1 MB/s eta 0:00:11\n",
      "   ------- -------------------------------- 2.6/13.6 MB 1.1 MB/s eta 0:00:11\n",
      "   -------- ------------------------------- 2.9/13.6 MB 1.0 MB/s eta 0:00:11\n",
      "   --------- ------------------------------ 3.1/13.6 MB 1.1 MB/s eta 0:00:10\n",
      "   ---------- ----------------------------- 3.4/13.6 MB 1.1 MB/s eta 0:00:10\n",
      "   ----------- ---------------------------- 3.9/13.6 MB 1.2 MB/s eta 0:00:09\n",
      "   ------------ --------------------------- 4.2/13.6 MB 1.1 MB/s eta 0:00:09\n",
      "   ------------- -------------------------- 4.5/13.6 MB 1.2 MB/s eta 0:00:08\n",
      "   -------------- ------------------------- 5.0/13.6 MB 1.2 MB/s eta 0:00:07\n",
      "   ---------------- ----------------------- 5.5/13.6 MB 1.3 MB/s eta 0:00:07\n",
      "   ---------------- ----------------------- 5.8/13.6 MB 1.3 MB/s eta 0:00:06\n",
      "   ------------------ --------------------- 6.3/13.6 MB 1.3 MB/s eta 0:00:06\n",
      "   -------------------- ------------------- 6.8/13.6 MB 1.4 MB/s eta 0:00:05\n",
      "   --------------------- ------------------ 7.3/13.6 MB 1.4 MB/s eta 0:00:05\n",
      "   ---------------------- ----------------- 7.6/13.6 MB 1.4 MB/s eta 0:00:05\n",
      "   ----------------------- ---------------- 8.1/13.6 MB 1.5 MB/s eta 0:00:04\n",
      "   ------------------------ --------------- 8.4/13.6 MB 1.5 MB/s eta 0:00:04\n",
      "   ------------------------- -------------- 8.7/13.6 MB 1.5 MB/s eta 0:00:04\n",
      "   ------------------------- -------------- 8.7/13.6 MB 1.5 MB/s eta 0:00:04\n",
      "   -------------------------- ------------- 8.9/13.6 MB 1.4 MB/s eta 0:00:04\n",
      "   -------------------------- ------------- 9.2/13.6 MB 1.4 MB/s eta 0:00:04\n",
      "   ---------------------------- ----------- 9.7/13.6 MB 1.4 MB/s eta 0:00:03\n",
      "   ----------------------------- ---------- 10.0/13.6 MB 1.4 MB/s eta 0:00:03\n",
      "   ------------------------------ --------- 10.2/13.6 MB 1.4 MB/s eta 0:00:03\n",
      "   ------------------------------ --------- 10.2/13.6 MB 1.4 MB/s eta 0:00:03\n",
      "   ------------------------------ --------- 10.5/13.6 MB 1.4 MB/s eta 0:00:03\n",
      "   ------------------------------- -------- 10.7/13.6 MB 1.4 MB/s eta 0:00:03\n",
      "   -------------------------------- ------- 11.0/13.6 MB 1.4 MB/s eta 0:00:02\n",
      "   --------------------------------- ------ 11.3/13.6 MB 1.4 MB/s eta 0:00:02\n",
      "   --------------------------------- ------ 11.5/13.6 MB 1.4 MB/s eta 0:00:02\n",
      "   ---------------------------------- ----- 11.8/13.6 MB 1.4 MB/s eta 0:00:02\n",
      "   ------------------------------------ --- 12.3/13.6 MB 1.4 MB/s eta 0:00:01\n",
      "   ------------------------------------ --- 12.3/13.6 MB 1.4 MB/s eta 0:00:01\n",
      "   ------------------------------------- -- 12.6/13.6 MB 1.4 MB/s eta 0:00:01\n",
      "   ------------------------------------- -- 12.8/13.6 MB 1.3 MB/s eta 0:00:01\n",
      "   -------------------------------------- - 13.1/13.6 MB 1.3 MB/s eta 0:00:01\n",
      "   ---------------------------------------  13.4/13.6 MB 1.3 MB/s eta 0:00:01\n",
      "   ---------------------------------------  13.4/13.6 MB 1.3 MB/s eta 0:00:01\n",
      "   ---------------------------------------- 13.6/13.6 MB 1.3 MB/s eta 0:00:00\n",
      "Downloading google_auth-2.40.3-py2.py3-none-any.whl (216 kB)\n",
      "Downloading google_auth_httplib2-0.2.0-py2.py3-none-any.whl (9.3 kB)\n",
      "Downloading httplib2-0.22.0-py3-none-any.whl (96 kB)\n",
      "Downloading google_cloud_storage-3.1.1-py3-none-any.whl (175 kB)\n",
      "Downloading google_api_core-2.25.1-py3-none-any.whl (160 kB)\n",
      "Downloading google_cloud_core-2.4.3-py2.py3-none-any.whl (29 kB)\n",
      "Downloading google_crc32c-1.7.1-cp312-cp312-win_amd64.whl (33 kB)\n",
      "Downloading google_resumable_media-2.7.2-py2.py3-none-any.whl (81 kB)\n",
      "Downloading rsa-4.9.1-py3-none-any.whl (34 kB)\n",
      "Downloading uritemplate-4.2.0-py3-none-any.whl (11 kB)\n",
      "Downloading googleapis_common_protos-1.70.0-py3-none-any.whl (294 kB)\n",
      "Downloading proto_plus-1.26.1-py3-none-any.whl (50 kB)\n",
      "Installing collected packages: uritemplate, rsa, proto-plus, httplib2, googleapis-common-protos, google-crc32c, google-resumable-media, google-auth, google-auth-httplib2, google-api-core, google-cloud-core, google-api-python-client, google-cloud-storage, earthengine-api\n",
      "Successfully installed earthengine-api-1.5.20 google-api-core-2.25.1 google-api-python-client-2.172.0 google-auth-2.40.3 google-auth-httplib2-0.2.0 google-cloud-core-2.4.3 google-cloud-storage-3.1.1 google-crc32c-1.7.1 google-resumable-media-2.7.2 googleapis-common-protos-1.70.0 httplib2-0.22.0 proto-plus-1.26.1 rsa-4.9.1 uritemplate-4.2.0\n"
     ]
    },
    {
     "name": "stderr",
     "output_type": "stream",
     "text": [
      "  WARNING: The scripts pyrsa-decrypt.exe, pyrsa-encrypt.exe, pyrsa-keygen.exe, pyrsa-priv2pub.exe, pyrsa-sign.exe and pyrsa-verify.exe are installed in 'C:\\Users\\thris\\AppData\\Roaming\\Python\\Python312\\Scripts' which is not on PATH.\n",
      "  Consider adding this directory to PATH or, if you prefer to suppress this warning, use --no-warn-script-location.\n",
      "  WARNING: The script earthengine.exe is installed in 'C:\\Users\\thris\\AppData\\Roaming\\Python\\Python312\\Scripts' which is not on PATH.\n",
      "  Consider adding this directory to PATH or, if you prefer to suppress this warning, use --no-warn-script-location.\n",
      "\n",
      "[notice] A new release of pip is available: 25.0.1 -> 25.1.1\n",
      "[notice] To update, run: python.exe -m pip install --upgrade pip\n"
     ]
    },
    {
     "name": "stdout",
     "output_type": "stream",
     "text": [
      "Defaulting to user installation because normal site-packages is not writeable\n",
      "Collecting geemap\n",
      "  Downloading geemap-0.35.3-py2.py3-none-any.whl.metadata (12 kB)\n",
      "Collecting bqplot (from geemap)\n",
      "  Downloading bqplot-0.12.45-py2.py3-none-any.whl.metadata (6.4 kB)\n",
      "Collecting colour (from geemap)\n",
      "  Downloading colour-0.1.5-py2.py3-none-any.whl.metadata (18 kB)\n",
      "Requirement already satisfied: earthengine-api>=1.0.0 in c:\\users\\thris\\appdata\\roaming\\python\\python312\\site-packages (from geemap) (1.5.20)\n",
      "Collecting eerepr>=0.1.0 (from geemap)\n",
      "  Downloading eerepr-0.1.2-py3-none-any.whl.metadata (4.2 kB)\n",
      "Collecting folium>=0.17.0 (from geemap)\n",
      "  Downloading folium-0.20.0-py2.py3-none-any.whl.metadata (4.2 kB)\n",
      "Collecting geocoder (from geemap)\n",
      "  Downloading geocoder-1.38.1-py2.py3-none-any.whl.metadata (14 kB)\n",
      "Collecting ipyevents (from geemap)\n",
      "  Downloading ipyevents-2.0.2-py3-none-any.whl.metadata (2.9 kB)\n",
      "Collecting ipyfilechooser>=0.6.0 (from geemap)\n",
      "  Downloading ipyfilechooser-0.6.0-py3-none-any.whl.metadata (6.4 kB)\n",
      "Collecting ipyleaflet>=0.19.2 (from geemap)\n",
      "  Downloading ipyleaflet-0.20.0-py3-none-any.whl.metadata (5.3 kB)\n",
      "Collecting ipytree (from geemap)\n",
      "  Downloading ipytree-0.2.2-py2.py3-none-any.whl.metadata (849 bytes)\n",
      "Requirement already satisfied: matplotlib in c:\\users\\thris\\appdata\\roaming\\python\\python312\\site-packages (from geemap) (3.10.1)\n",
      "Requirement already satisfied: numpy in c:\\users\\thris\\appdata\\roaming\\python\\python312\\site-packages (from geemap) (1.26.4)\n",
      "Requirement already satisfied: pandas in c:\\users\\thris\\appdata\\roaming\\python\\python312\\site-packages (from geemap) (2.2.3)\n",
      "Requirement already satisfied: plotly in c:\\programdata\\anaconda3\\lib\\site-packages (from geemap) (5.24.1)\n",
      "Collecting pyperclip (from geemap)\n",
      "  Downloading pyperclip-1.9.0.tar.gz (20 kB)\n",
      "  Preparing metadata (setup.py): started\n",
      "  Preparing metadata (setup.py): finished with status 'done'\n",
      "Collecting pyshp>=2.3.1 (from geemap)\n",
      "  Downloading pyshp-2.3.1-py2.py3-none-any.whl.metadata (55 kB)\n",
      "Collecting python-box (from geemap)\n",
      "  Downloading python_box-7.3.2-cp312-cp312-win_amd64.whl.metadata (8.3 kB)\n",
      "Collecting scooby (from geemap)\n",
      "  Downloading scooby-0.10.1-py3-none-any.whl.metadata (15 kB)\n",
      "Requirement already satisfied: google-cloud-storage in c:\\users\\thris\\appdata\\roaming\\python\\python312\\site-packages (from earthengine-api>=1.0.0->geemap) (3.1.1)\n",
      "Requirement already satisfied: google-api-python-client>=1.12.1 in c:\\users\\thris\\appdata\\roaming\\python\\python312\\site-packages (from earthengine-api>=1.0.0->geemap) (2.172.0)\n",
      "Requirement already satisfied: google-auth>=1.4.1 in c:\\users\\thris\\appdata\\roaming\\python\\python312\\site-packages (from earthengine-api>=1.0.0->geemap) (2.40.3)\n",
      "Requirement already satisfied: google-auth-httplib2>=0.0.3 in c:\\users\\thris\\appdata\\roaming\\python\\python312\\site-packages (from earthengine-api>=1.0.0->geemap) (0.2.0)\n",
      "Requirement already satisfied: httplib2<1dev,>=0.9.2 in c:\\users\\thris\\appdata\\roaming\\python\\python312\\site-packages (from earthengine-api>=1.0.0->geemap) (0.22.0)\n",
      "Requirement already satisfied: requests in c:\\users\\thris\\appdata\\roaming\\python\\python312\\site-packages (from earthengine-api>=1.0.0->geemap) (2.32.3)\n",
      "Collecting branca>=0.6.0 (from folium>=0.17.0->geemap)\n",
      "  Downloading branca-0.8.1-py3-none-any.whl.metadata (1.5 kB)\n",
      "Requirement already satisfied: jinja2>=2.9 in c:\\users\\thris\\appdata\\roaming\\python\\python312\\site-packages (from folium>=0.17.0->geemap) (3.1.6)\n",
      "Requirement already satisfied: xyzservices in c:\\programdata\\anaconda3\\lib\\site-packages (from folium>=0.17.0->geemap) (2022.9.0)\n",
      "Requirement already satisfied: ipywidgets in c:\\programdata\\anaconda3\\lib\\site-packages (from ipyfilechooser>=0.6.0->geemap) (7.8.1)\n",
      "Collecting jupyter-leaflet<0.21,>=0.20 (from ipyleaflet>=0.19.2->geemap)\n",
      "  Downloading jupyter_leaflet-0.20.0-py3-none-any.whl.metadata (2.4 kB)\n",
      "Collecting traittypes<3,>=0.2.1 (from ipyleaflet>=0.19.2->geemap)\n",
      "  Downloading traittypes-0.2.1-py2.py3-none-any.whl.metadata (1.0 kB)\n",
      "Requirement already satisfied: traitlets>=4.3.0 in c:\\programdata\\anaconda3\\lib\\site-packages (from bqplot->geemap) (5.14.3)\n",
      "Requirement already satisfied: python-dateutil>=2.8.2 in c:\\users\\thris\\appdata\\roaming\\python\\python312\\site-packages (from pandas->geemap) (2.9.0.post0)\n",
      "Requirement already satisfied: pytz>=2020.1 in c:\\users\\thris\\appdata\\roaming\\python\\python312\\site-packages (from pandas->geemap) (2025.1)\n",
      "Requirement already satisfied: tzdata>=2022.7 in c:\\users\\thris\\appdata\\roaming\\python\\python312\\site-packages (from pandas->geemap) (2025.1)\n",
      "Requirement already satisfied: click in c:\\users\\thris\\appdata\\roaming\\python\\python312\\site-packages (from geocoder->geemap) (8.1.8)\n",
      "Collecting future (from geocoder->geemap)\n",
      "  Downloading future-1.0.0-py3-none-any.whl.metadata (4.0 kB)\n",
      "Collecting ratelim (from geocoder->geemap)\n",
      "  Downloading ratelim-0.1.6-py2.py3-none-any.whl.metadata (1.4 kB)\n",
      "Requirement already satisfied: six in c:\\users\\thris\\appdata\\roaming\\python\\python312\\site-packages (from geocoder->geemap) (1.17.0)\n",
      "Requirement already satisfied: contourpy>=1.0.1 in c:\\users\\thris\\appdata\\roaming\\python\\python312\\site-packages (from matplotlib->geemap) (1.3.1)\n",
      "Requirement already satisfied: cycler>=0.10 in c:\\users\\thris\\appdata\\roaming\\python\\python312\\site-packages (from matplotlib->geemap) (0.12.1)\n",
      "Requirement already satisfied: fonttools>=4.22.0 in c:\\users\\thris\\appdata\\roaming\\python\\python312\\site-packages (from matplotlib->geemap) (4.56.0)\n",
      "Requirement already satisfied: kiwisolver>=1.3.1 in c:\\users\\thris\\appdata\\roaming\\python\\python312\\site-packages (from matplotlib->geemap) (1.4.8)\n",
      "Requirement already satisfied: packaging>=20.0 in c:\\users\\thris\\appdata\\roaming\\python\\python312\\site-packages (from matplotlib->geemap) (24.2)\n",
      "Requirement already satisfied: pillow>=8 in c:\\users\\thris\\appdata\\roaming\\python\\python312\\site-packages (from matplotlib->geemap) (11.1.0)\n",
      "Requirement already satisfied: pyparsing>=2.3.1 in c:\\users\\thris\\appdata\\roaming\\python\\python312\\site-packages (from matplotlib->geemap) (3.2.1)\n",
      "Requirement already satisfied: tenacity>=6.2.0 in c:\\users\\thris\\appdata\\roaming\\python\\python312\\site-packages (from plotly->geemap) (9.1.2)\n",
      "Requirement already satisfied: google-api-core!=2.0.*,!=2.1.*,!=2.2.*,!=2.3.0,<3.0.0,>=1.31.5 in c:\\users\\thris\\appdata\\roaming\\python\\python312\\site-packages (from google-api-python-client>=1.12.1->earthengine-api>=1.0.0->geemap) (2.25.1)\n",
      "Requirement already satisfied: uritemplate<5,>=3.0.1 in c:\\users\\thris\\appdata\\roaming\\python\\python312\\site-packages (from google-api-python-client>=1.12.1->earthengine-api>=1.0.0->geemap) (4.2.0)\n",
      "Requirement already satisfied: cachetools<6.0,>=2.0.0 in c:\\users\\thris\\appdata\\roaming\\python\\python312\\site-packages (from google-auth>=1.4.1->earthengine-api>=1.0.0->geemap) (5.5.2)\n",
      "Requirement already satisfied: pyasn1-modules>=0.2.1 in c:\\programdata\\anaconda3\\lib\\site-packages (from google-auth>=1.4.1->earthengine-api>=1.0.0->geemap) (0.2.8)\n",
      "Requirement already satisfied: rsa<5,>=3.1.4 in c:\\users\\thris\\appdata\\roaming\\python\\python312\\site-packages (from google-auth>=1.4.1->earthengine-api>=1.0.0->geemap) (4.9.1)\n",
      "Requirement already satisfied: comm>=0.1.3 in c:\\programdata\\anaconda3\\lib\\site-packages (from ipywidgets->ipyfilechooser>=0.6.0->geemap) (0.2.1)\n",
      "Requirement already satisfied: ipython-genutils~=0.2.0 in c:\\programdata\\anaconda3\\lib\\site-packages (from ipywidgets->ipyfilechooser>=0.6.0->geemap) (0.2.0)\n",
      "Requirement already satisfied: widgetsnbextension~=3.6.6 in c:\\programdata\\anaconda3\\lib\\site-packages (from ipywidgets->ipyfilechooser>=0.6.0->geemap) (3.6.6)\n",
      "Requirement already satisfied: ipython>=4.0.0 in c:\\programdata\\anaconda3\\lib\\site-packages (from ipywidgets->ipyfilechooser>=0.6.0->geemap) (8.27.0)\n",
      "Requirement already satisfied: jupyterlab-widgets<3,>=1.0.0 in c:\\programdata\\anaconda3\\lib\\site-packages (from ipywidgets->ipyfilechooser>=0.6.0->geemap) (1.0.0)\n",
      "Requirement already satisfied: MarkupSafe>=2.0 in c:\\users\\thris\\appdata\\roaming\\python\\python312\\site-packages (from jinja2>=2.9->folium>=0.17.0->geemap) (3.0.2)\n",
      "Requirement already satisfied: colorama in c:\\users\\thris\\appdata\\roaming\\python\\python312\\site-packages (from click->geocoder->geemap) (0.4.6)\n",
      "Requirement already satisfied: google-cloud-core<3.0.0,>=2.4.2 in c:\\users\\thris\\appdata\\roaming\\python\\python312\\site-packages (from google-cloud-storage->earthengine-api>=1.0.0->geemap) (2.4.3)\n",
      "Requirement already satisfied: google-resumable-media<3.0.0,>=2.7.2 in c:\\users\\thris\\appdata\\roaming\\python\\python312\\site-packages (from google-cloud-storage->earthengine-api>=1.0.0->geemap) (2.7.2)\n",
      "Requirement already satisfied: google-crc32c<2.0.0,>=1.1.3 in c:\\users\\thris\\appdata\\roaming\\python\\python312\\site-packages (from google-cloud-storage->earthengine-api>=1.0.0->geemap) (1.7.1)\n",
      "Requirement already satisfied: charset-normalizer<4,>=2 in c:\\users\\thris\\appdata\\roaming\\python\\python312\\site-packages (from requests->earthengine-api>=1.0.0->geemap) (3.4.1)\n",
      "Requirement already satisfied: idna<4,>=2.5 in c:\\users\\thris\\appdata\\roaming\\python\\python312\\site-packages (from requests->earthengine-api>=1.0.0->geemap) (3.10)\n",
      "Requirement already satisfied: urllib3<3,>=1.21.1 in c:\\users\\thris\\appdata\\roaming\\python\\python312\\site-packages (from requests->earthengine-api>=1.0.0->geemap) (2.3.0)\n",
      "Requirement already satisfied: certifi>=2017.4.17 in c:\\users\\thris\\appdata\\roaming\\python\\python312\\site-packages (from requests->earthengine-api>=1.0.0->geemap) (2025.1.31)\n",
      "Requirement already satisfied: decorator in c:\\programdata\\anaconda3\\lib\\site-packages (from ratelim->geocoder->geemap) (5.1.1)\n",
      "Requirement already satisfied: googleapis-common-protos<2.0.0,>=1.56.2 in c:\\users\\thris\\appdata\\roaming\\python\\python312\\site-packages (from google-api-core!=2.0.*,!=2.1.*,!=2.2.*,!=2.3.0,<3.0.0,>=1.31.5->google-api-python-client>=1.12.1->earthengine-api>=1.0.0->geemap) (1.70.0)\n",
      "Requirement already satisfied: protobuf!=3.20.0,!=3.20.1,!=4.21.0,!=4.21.1,!=4.21.2,!=4.21.3,!=4.21.4,!=4.21.5,<7.0.0,>=3.19.5 in c:\\users\\thris\\appdata\\roaming\\python\\python312\\site-packages (from google-api-core!=2.0.*,!=2.1.*,!=2.2.*,!=2.3.0,<3.0.0,>=1.31.5->google-api-python-client>=1.12.1->earthengine-api>=1.0.0->geemap) (5.29.4)\n",
      "Requirement already satisfied: proto-plus<2.0.0,>=1.22.3 in c:\\users\\thris\\appdata\\roaming\\python\\python312\\site-packages (from google-api-core!=2.0.*,!=2.1.*,!=2.2.*,!=2.3.0,<3.0.0,>=1.31.5->google-api-python-client>=1.12.1->earthengine-api>=1.0.0->geemap) (1.26.1)\n",
      "Requirement already satisfied: jedi>=0.16 in c:\\programdata\\anaconda3\\lib\\site-packages (from ipython>=4.0.0->ipywidgets->ipyfilechooser>=0.6.0->geemap) (0.19.1)\n",
      "Requirement already satisfied: matplotlib-inline in c:\\programdata\\anaconda3\\lib\\site-packages (from ipython>=4.0.0->ipywidgets->ipyfilechooser>=0.6.0->geemap) (0.1.6)\n",
      "Requirement already satisfied: prompt-toolkit<3.1.0,>=3.0.41 in c:\\programdata\\anaconda3\\lib\\site-packages (from ipython>=4.0.0->ipywidgets->ipyfilechooser>=0.6.0->geemap) (3.0.43)\n",
      "Requirement already satisfied: pygments>=2.4.0 in c:\\users\\thris\\appdata\\roaming\\python\\python312\\site-packages (from ipython>=4.0.0->ipywidgets->ipyfilechooser>=0.6.0->geemap) (2.19.1)\n",
      "Requirement already satisfied: stack-data in c:\\programdata\\anaconda3\\lib\\site-packages (from ipython>=4.0.0->ipywidgets->ipyfilechooser>=0.6.0->geemap) (0.2.0)\n",
      "Requirement already satisfied: pyasn1<0.5.0,>=0.4.6 in c:\\programdata\\anaconda3\\lib\\site-packages (from pyasn1-modules>=0.2.1->google-auth>=1.4.1->earthengine-api>=1.0.0->geemap) (0.4.8)\n",
      "Requirement already satisfied: notebook>=4.4.1 in c:\\programdata\\anaconda3\\lib\\site-packages (from widgetsnbextension~=3.6.6->ipywidgets->ipyfilechooser>=0.6.0->geemap) (7.2.2)\n",
      "Requirement already satisfied: parso<0.9.0,>=0.8.3 in c:\\programdata\\anaconda3\\lib\\site-packages (from jedi>=0.16->ipython>=4.0.0->ipywidgets->ipyfilechooser>=0.6.0->geemap) (0.8.3)\n",
      "Requirement already satisfied: jupyter-server<3,>=2.4.0 in c:\\programdata\\anaconda3\\lib\\site-packages (from notebook>=4.4.1->widgetsnbextension~=3.6.6->ipywidgets->ipyfilechooser>=0.6.0->geemap) (2.14.1)\n",
      "Requirement already satisfied: jupyterlab-server<3,>=2.27.1 in c:\\programdata\\anaconda3\\lib\\site-packages (from notebook>=4.4.1->widgetsnbextension~=3.6.6->ipywidgets->ipyfilechooser>=0.6.0->geemap) (2.27.3)\n",
      "Requirement already satisfied: jupyterlab<4.3,>=4.2.0 in c:\\programdata\\anaconda3\\lib\\site-packages (from notebook>=4.4.1->widgetsnbextension~=3.6.6->ipywidgets->ipyfilechooser>=0.6.0->geemap) (4.2.5)\n",
      "Requirement already satisfied: notebook-shim<0.3,>=0.2 in c:\\programdata\\anaconda3\\lib\\site-packages (from notebook>=4.4.1->widgetsnbextension~=3.6.6->ipywidgets->ipyfilechooser>=0.6.0->geemap) (0.2.3)\n",
      "Requirement already satisfied: tornado>=6.2.0 in c:\\users\\thris\\appdata\\roaming\\python\\python312\\site-packages (from notebook>=4.4.1->widgetsnbextension~=3.6.6->ipywidgets->ipyfilechooser>=0.6.0->geemap) (6.4.2)\n",
      "Requirement already satisfied: wcwidth in c:\\programdata\\anaconda3\\lib\\site-packages (from prompt-toolkit<3.1.0,>=3.0.41->ipython>=4.0.0->ipywidgets->ipyfilechooser>=0.6.0->geemap) (0.2.5)\n",
      "Requirement already satisfied: executing in c:\\programdata\\anaconda3\\lib\\site-packages (from stack-data->ipython>=4.0.0->ipywidgets->ipyfilechooser>=0.6.0->geemap) (0.8.3)\n",
      "Requirement already satisfied: asttokens in c:\\programdata\\anaconda3\\lib\\site-packages (from stack-data->ipython>=4.0.0->ipywidgets->ipyfilechooser>=0.6.0->geemap) (2.0.5)\n",
      "Requirement already satisfied: pure-eval in c:\\programdata\\anaconda3\\lib\\site-packages (from stack-data->ipython>=4.0.0->ipywidgets->ipyfilechooser>=0.6.0->geemap) (0.2.2)\n",
      "Requirement already satisfied: anyio>=3.1.0 in c:\\programdata\\anaconda3\\lib\\site-packages (from jupyter-server<3,>=2.4.0->notebook>=4.4.1->widgetsnbextension~=3.6.6->ipywidgets->ipyfilechooser>=0.6.0->geemap) (4.2.0)\n",
      "Requirement already satisfied: argon2-cffi>=21.1 in c:\\programdata\\anaconda3\\lib\\site-packages (from jupyter-server<3,>=2.4.0->notebook>=4.4.1->widgetsnbextension~=3.6.6->ipywidgets->ipyfilechooser>=0.6.0->geemap) (21.3.0)\n",
      "Requirement already satisfied: jupyter-client>=7.4.4 in c:\\programdata\\anaconda3\\lib\\site-packages (from jupyter-server<3,>=2.4.0->notebook>=4.4.1->widgetsnbextension~=3.6.6->ipywidgets->ipyfilechooser>=0.6.0->geemap) (8.6.0)\n",
      "Requirement already satisfied: jupyter-core!=5.0.*,>=4.12 in c:\\programdata\\anaconda3\\lib\\site-packages (from jupyter-server<3,>=2.4.0->notebook>=4.4.1->widgetsnbextension~=3.6.6->ipywidgets->ipyfilechooser>=0.6.0->geemap) (5.7.2)\n",
      "Requirement already satisfied: jupyter-events>=0.9.0 in c:\\programdata\\anaconda3\\lib\\site-packages (from jupyter-server<3,>=2.4.0->notebook>=4.4.1->widgetsnbextension~=3.6.6->ipywidgets->ipyfilechooser>=0.6.0->geemap) (0.10.0)\n",
      "Requirement already satisfied: jupyter-server-terminals>=0.4.4 in c:\\programdata\\anaconda3\\lib\\site-packages (from jupyter-server<3,>=2.4.0->notebook>=4.4.1->widgetsnbextension~=3.6.6->ipywidgets->ipyfilechooser>=0.6.0->geemap) (0.4.4)\n",
      "Requirement already satisfied: nbconvert>=6.4.4 in c:\\programdata\\anaconda3\\lib\\site-packages (from jupyter-server<3,>=2.4.0->notebook>=4.4.1->widgetsnbextension~=3.6.6->ipywidgets->ipyfilechooser>=0.6.0->geemap) (7.16.4)\n",
      "Requirement already satisfied: nbformat>=5.3.0 in c:\\programdata\\anaconda3\\lib\\site-packages (from jupyter-server<3,>=2.4.0->notebook>=4.4.1->widgetsnbextension~=3.6.6->ipywidgets->ipyfilechooser>=0.6.0->geemap) (5.10.4)\n",
      "Requirement already satisfied: overrides>=5.0 in c:\\programdata\\anaconda3\\lib\\site-packages (from jupyter-server<3,>=2.4.0->notebook>=4.4.1->widgetsnbextension~=3.6.6->ipywidgets->ipyfilechooser>=0.6.0->geemap) (7.4.0)\n",
      "Requirement already satisfied: prometheus-client>=0.9 in c:\\programdata\\anaconda3\\lib\\site-packages (from jupyter-server<3,>=2.4.0->notebook>=4.4.1->widgetsnbextension~=3.6.6->ipywidgets->ipyfilechooser>=0.6.0->geemap) (0.14.1)\n",
      "Requirement already satisfied: pywinpty>=2.0.1 in c:\\programdata\\anaconda3\\lib\\site-packages (from jupyter-server<3,>=2.4.0->notebook>=4.4.1->widgetsnbextension~=3.6.6->ipywidgets->ipyfilechooser>=0.6.0->geemap) (2.0.10)\n",
      "Requirement already satisfied: pyzmq>=24 in c:\\programdata\\anaconda3\\lib\\site-packages (from jupyter-server<3,>=2.4.0->notebook>=4.4.1->widgetsnbextension~=3.6.6->ipywidgets->ipyfilechooser>=0.6.0->geemap) (25.1.2)\n",
      "Requirement already satisfied: send2trash>=1.8.2 in c:\\programdata\\anaconda3\\lib\\site-packages (from jupyter-server<3,>=2.4.0->notebook>=4.4.1->widgetsnbextension~=3.6.6->ipywidgets->ipyfilechooser>=0.6.0->geemap) (1.8.2)\n",
      "Requirement already satisfied: terminado>=0.8.3 in c:\\programdata\\anaconda3\\lib\\site-packages (from jupyter-server<3,>=2.4.0->notebook>=4.4.1->widgetsnbextension~=3.6.6->ipywidgets->ipyfilechooser>=0.6.0->geemap) (0.17.1)\n",
      "Requirement already satisfied: websocket-client>=1.7 in c:\\programdata\\anaconda3\\lib\\site-packages (from jupyter-server<3,>=2.4.0->notebook>=4.4.1->widgetsnbextension~=3.6.6->ipywidgets->ipyfilechooser>=0.6.0->geemap) (1.8.0)\n",
      "Requirement already satisfied: async-lru>=1.0.0 in c:\\programdata\\anaconda3\\lib\\site-packages (from jupyterlab<4.3,>=4.2.0->notebook>=4.4.1->widgetsnbextension~=3.6.6->ipywidgets->ipyfilechooser>=0.6.0->geemap) (2.0.4)\n",
      "Requirement already satisfied: httpx>=0.25.0 in c:\\programdata\\anaconda3\\lib\\site-packages (from jupyterlab<4.3,>=4.2.0->notebook>=4.4.1->widgetsnbextension~=3.6.6->ipywidgets->ipyfilechooser>=0.6.0->geemap) (0.27.0)\n",
      "Requirement already satisfied: ipykernel>=6.5.0 in c:\\programdata\\anaconda3\\lib\\site-packages (from jupyterlab<4.3,>=4.2.0->notebook>=4.4.1->widgetsnbextension~=3.6.6->ipywidgets->ipyfilechooser>=0.6.0->geemap) (6.28.0)\n",
      "Requirement already satisfied: jupyter-lsp>=2.0.0 in c:\\programdata\\anaconda3\\lib\\site-packages (from jupyterlab<4.3,>=4.2.0->notebook>=4.4.1->widgetsnbextension~=3.6.6->ipywidgets->ipyfilechooser>=0.6.0->geemap) (2.2.0)\n",
      "Requirement already satisfied: setuptools>=40.1.0 in c:\\users\\thris\\appdata\\roaming\\python\\python312\\site-packages (from jupyterlab<4.3,>=4.2.0->notebook>=4.4.1->widgetsnbextension~=3.6.6->ipywidgets->ipyfilechooser>=0.6.0->geemap) (78.1.0)\n",
      "Requirement already satisfied: babel>=2.10 in c:\\programdata\\anaconda3\\lib\\site-packages (from jupyterlab-server<3,>=2.27.1->notebook>=4.4.1->widgetsnbextension~=3.6.6->ipywidgets->ipyfilechooser>=0.6.0->geemap) (2.11.0)\n",
      "Requirement already satisfied: json5>=0.9.0 in c:\\programdata\\anaconda3\\lib\\site-packages (from jupyterlab-server<3,>=2.27.1->notebook>=4.4.1->widgetsnbextension~=3.6.6->ipywidgets->ipyfilechooser>=0.6.0->geemap) (0.9.6)\n",
      "Requirement already satisfied: jsonschema>=4.18.0 in c:\\users\\thris\\appdata\\roaming\\python\\python312\\site-packages (from jupyterlab-server<3,>=2.27.1->notebook>=4.4.1->widgetsnbextension~=3.6.6->ipywidgets->ipyfilechooser>=0.6.0->geemap) (4.23.0)\n",
      "Requirement already satisfied: sniffio>=1.1 in c:\\programdata\\anaconda3\\lib\\site-packages (from anyio>=3.1.0->jupyter-server<3,>=2.4.0->notebook>=4.4.1->widgetsnbextension~=3.6.6->ipywidgets->ipyfilechooser>=0.6.0->geemap) (1.3.0)\n",
      "Requirement already satisfied: argon2-cffi-bindings in c:\\programdata\\anaconda3\\lib\\site-packages (from argon2-cffi>=21.1->jupyter-server<3,>=2.4.0->notebook>=4.4.1->widgetsnbextension~=3.6.6->ipywidgets->ipyfilechooser>=0.6.0->geemap) (21.2.0)\n",
      "Requirement already satisfied: httpcore==1.* in c:\\programdata\\anaconda3\\lib\\site-packages (from httpx>=0.25.0->jupyterlab<4.3,>=4.2.0->notebook>=4.4.1->widgetsnbextension~=3.6.6->ipywidgets->ipyfilechooser>=0.6.0->geemap) (1.0.2)\n",
      "Requirement already satisfied: h11<0.15,>=0.13 in c:\\programdata\\anaconda3\\lib\\site-packages (from httpcore==1.*->httpx>=0.25.0->jupyterlab<4.3,>=4.2.0->notebook>=4.4.1->widgetsnbextension~=3.6.6->ipywidgets->ipyfilechooser>=0.6.0->geemap) (0.14.0)\n",
      "Requirement already satisfied: debugpy>=1.6.5 in c:\\programdata\\anaconda3\\lib\\site-packages (from ipykernel>=6.5.0->jupyterlab<4.3,>=4.2.0->notebook>=4.4.1->widgetsnbextension~=3.6.6->ipywidgets->ipyfilechooser>=0.6.0->geemap) (1.6.7)\n",
      "Requirement already satisfied: nest-asyncio in c:\\programdata\\anaconda3\\lib\\site-packages (from ipykernel>=6.5.0->jupyterlab<4.3,>=4.2.0->notebook>=4.4.1->widgetsnbextension~=3.6.6->ipywidgets->ipyfilechooser>=0.6.0->geemap) (1.6.0)\n",
      "Requirement already satisfied: psutil in c:\\programdata\\anaconda3\\lib\\site-packages (from ipykernel>=6.5.0->jupyterlab<4.3,>=4.2.0->notebook>=4.4.1->widgetsnbextension~=3.6.6->ipywidgets->ipyfilechooser>=0.6.0->geemap) (5.9.0)\n",
      "Requirement already satisfied: attrs>=22.2.0 in c:\\users\\thris\\appdata\\roaming\\python\\python312\\site-packages (from jsonschema>=4.18.0->jupyterlab-server<3,>=2.27.1->notebook>=4.4.1->widgetsnbextension~=3.6.6->ipywidgets->ipyfilechooser>=0.6.0->geemap) (25.3.0)\n",
      "Requirement already satisfied: jsonschema-specifications>=2023.03.6 in c:\\users\\thris\\appdata\\roaming\\python\\python312\\site-packages (from jsonschema>=4.18.0->jupyterlab-server<3,>=2.27.1->notebook>=4.4.1->widgetsnbextension~=3.6.6->ipywidgets->ipyfilechooser>=0.6.0->geemap) (2024.10.1)\n",
      "Requirement already satisfied: referencing>=0.28.4 in c:\\users\\thris\\appdata\\roaming\\python\\python312\\site-packages (from jsonschema>=4.18.0->jupyterlab-server<3,>=2.27.1->notebook>=4.4.1->widgetsnbextension~=3.6.6->ipywidgets->ipyfilechooser>=0.6.0->geemap) (0.36.2)\n",
      "Requirement already satisfied: rpds-py>=0.7.1 in c:\\users\\thris\\appdata\\roaming\\python\\python312\\site-packages (from jsonschema>=4.18.0->jupyterlab-server<3,>=2.27.1->notebook>=4.4.1->widgetsnbextension~=3.6.6->ipywidgets->ipyfilechooser>=0.6.0->geemap) (0.24.0)\n",
      "Requirement already satisfied: platformdirs>=2.5 in c:\\programdata\\anaconda3\\lib\\site-packages (from jupyter-core!=5.0.*,>=4.12->jupyter-server<3,>=2.4.0->notebook>=4.4.1->widgetsnbextension~=3.6.6->ipywidgets->ipyfilechooser>=0.6.0->geemap) (3.10.0)\n",
      "Requirement already satisfied: pywin32>=300 in c:\\programdata\\anaconda3\\lib\\site-packages (from jupyter-core!=5.0.*,>=4.12->jupyter-server<3,>=2.4.0->notebook>=4.4.1->widgetsnbextension~=3.6.6->ipywidgets->ipyfilechooser>=0.6.0->geemap) (305.1)\n",
      "Requirement already satisfied: python-json-logger>=2.0.4 in c:\\programdata\\anaconda3\\lib\\site-packages (from jupyter-events>=0.9.0->jupyter-server<3,>=2.4.0->notebook>=4.4.1->widgetsnbextension~=3.6.6->ipywidgets->ipyfilechooser>=0.6.0->geemap) (2.0.7)\n",
      "Requirement already satisfied: pyyaml>=5.3 in c:\\programdata\\anaconda3\\lib\\site-packages (from jupyter-events>=0.9.0->jupyter-server<3,>=2.4.0->notebook>=4.4.1->widgetsnbextension~=3.6.6->ipywidgets->ipyfilechooser>=0.6.0->geemap) (6.0.1)\n",
      "Requirement already satisfied: rfc3339-validator in c:\\programdata\\anaconda3\\lib\\site-packages (from jupyter-events>=0.9.0->jupyter-server<3,>=2.4.0->notebook>=4.4.1->widgetsnbextension~=3.6.6->ipywidgets->ipyfilechooser>=0.6.0->geemap) (0.1.4)\n",
      "Requirement already satisfied: rfc3986-validator>=0.1.1 in c:\\programdata\\anaconda3\\lib\\site-packages (from jupyter-events>=0.9.0->jupyter-server<3,>=2.4.0->notebook>=4.4.1->widgetsnbextension~=3.6.6->ipywidgets->ipyfilechooser>=0.6.0->geemap) (0.1.1)\n",
      "Requirement already satisfied: beautifulsoup4 in c:\\programdata\\anaconda3\\lib\\site-packages (from nbconvert>=6.4.4->jupyter-server<3,>=2.4.0->notebook>=4.4.1->widgetsnbextension~=3.6.6->ipywidgets->ipyfilechooser>=0.6.0->geemap) (4.12.3)\n",
      "Requirement already satisfied: bleach!=5.0.0 in c:\\programdata\\anaconda3\\lib\\site-packages (from nbconvert>=6.4.4->jupyter-server<3,>=2.4.0->notebook>=4.4.1->widgetsnbextension~=3.6.6->ipywidgets->ipyfilechooser>=0.6.0->geemap) (4.1.0)\n",
      "Requirement already satisfied: defusedxml in c:\\programdata\\anaconda3\\lib\\site-packages (from nbconvert>=6.4.4->jupyter-server<3,>=2.4.0->notebook>=4.4.1->widgetsnbextension~=3.6.6->ipywidgets->ipyfilechooser>=0.6.0->geemap) (0.7.1)\n",
      "Requirement already satisfied: jupyterlab-pygments in c:\\programdata\\anaconda3\\lib\\site-packages (from nbconvert>=6.4.4->jupyter-server<3,>=2.4.0->notebook>=4.4.1->widgetsnbextension~=3.6.6->ipywidgets->ipyfilechooser>=0.6.0->geemap) (0.1.2)\n",
      "Requirement already satisfied: mistune<4,>=2.0.3 in c:\\programdata\\anaconda3\\lib\\site-packages (from nbconvert>=6.4.4->jupyter-server<3,>=2.4.0->notebook>=4.4.1->widgetsnbextension~=3.6.6->ipywidgets->ipyfilechooser>=0.6.0->geemap) (2.0.4)\n",
      "Requirement already satisfied: nbclient>=0.5.0 in c:\\programdata\\anaconda3\\lib\\site-packages (from nbconvert>=6.4.4->jupyter-server<3,>=2.4.0->notebook>=4.4.1->widgetsnbextension~=3.6.6->ipywidgets->ipyfilechooser>=0.6.0->geemap) (0.8.0)\n",
      "Requirement already satisfied: pandocfilters>=1.4.1 in c:\\programdata\\anaconda3\\lib\\site-packages (from nbconvert>=6.4.4->jupyter-server<3,>=2.4.0->notebook>=4.4.1->widgetsnbextension~=3.6.6->ipywidgets->ipyfilechooser>=0.6.0->geemap) (1.5.0)\n",
      "Requirement already satisfied: tinycss2 in c:\\programdata\\anaconda3\\lib\\site-packages (from nbconvert>=6.4.4->jupyter-server<3,>=2.4.0->notebook>=4.4.1->widgetsnbextension~=3.6.6->ipywidgets->ipyfilechooser>=0.6.0->geemap) (1.2.1)\n",
      "Requirement already satisfied: fastjsonschema>=2.15 in c:\\programdata\\anaconda3\\lib\\site-packages (from nbformat>=5.3.0->jupyter-server<3,>=2.4.0->notebook>=4.4.1->widgetsnbextension~=3.6.6->ipywidgets->ipyfilechooser>=0.6.0->geemap) (2.16.2)\n",
      "Requirement already satisfied: webencodings in c:\\programdata\\anaconda3\\lib\\site-packages (from bleach!=5.0.0->nbconvert>=6.4.4->jupyter-server<3,>=2.4.0->notebook>=4.4.1->widgetsnbextension~=3.6.6->ipywidgets->ipyfilechooser>=0.6.0->geemap) (0.5.1)\n",
      "Collecting fqdn (from jsonschema[format-nongpl]>=4.18.0->jupyter-events>=0.9.0->jupyter-server<3,>=2.4.0->notebook>=4.4.1->widgetsnbextension~=3.6.6->ipywidgets->ipyfilechooser>=0.6.0->geemap)\n",
      "  Downloading fqdn-1.5.1-py3-none-any.whl.metadata (1.4 kB)\n",
      "Collecting isoduration (from jsonschema[format-nongpl]>=4.18.0->jupyter-events>=0.9.0->jupyter-server<3,>=2.4.0->notebook>=4.4.1->widgetsnbextension~=3.6.6->ipywidgets->ipyfilechooser>=0.6.0->geemap)\n",
      "  Downloading isoduration-20.11.0-py3-none-any.whl.metadata (5.7 kB)\n",
      "Requirement already satisfied: jsonpointer>1.13 in c:\\programdata\\anaconda3\\lib\\site-packages (from jsonschema[format-nongpl]>=4.18.0->jupyter-events>=0.9.0->jupyter-server<3,>=2.4.0->notebook>=4.4.1->widgetsnbextension~=3.6.6->ipywidgets->ipyfilechooser>=0.6.0->geemap) (2.1)\n",
      "Collecting uri-template (from jsonschema[format-nongpl]>=4.18.0->jupyter-events>=0.9.0->jupyter-server<3,>=2.4.0->notebook>=4.4.1->widgetsnbextension~=3.6.6->ipywidgets->ipyfilechooser>=0.6.0->geemap)\n",
      "  Downloading uri_template-1.3.0-py3-none-any.whl.metadata (8.8 kB)\n",
      "Collecting webcolors>=24.6.0 (from jsonschema[format-nongpl]>=4.18.0->jupyter-events>=0.9.0->jupyter-server<3,>=2.4.0->notebook>=4.4.1->widgetsnbextension~=3.6.6->ipywidgets->ipyfilechooser>=0.6.0->geemap)\n",
      "  Downloading webcolors-24.11.1-py3-none-any.whl.metadata (2.2 kB)\n",
      "Requirement already satisfied: typing-extensions>=4.4.0 in c:\\users\\thris\\appdata\\roaming\\python\\python312\\site-packages (from referencing>=0.28.4->jsonschema>=4.18.0->jupyterlab-server<3,>=2.27.1->notebook>=4.4.1->widgetsnbextension~=3.6.6->ipywidgets->ipyfilechooser>=0.6.0->geemap) (4.13.1)\n",
      "Requirement already satisfied: cffi>=1.0.1 in c:\\programdata\\anaconda3\\lib\\site-packages (from argon2-cffi-bindings->argon2-cffi>=21.1->jupyter-server<3,>=2.4.0->notebook>=4.4.1->widgetsnbextension~=3.6.6->ipywidgets->ipyfilechooser>=0.6.0->geemap) (1.17.1)\n",
      "Requirement already satisfied: soupsieve>1.2 in c:\\programdata\\anaconda3\\lib\\site-packages (from beautifulsoup4->nbconvert>=6.4.4->jupyter-server<3,>=2.4.0->notebook>=4.4.1->widgetsnbextension~=3.6.6->ipywidgets->ipyfilechooser>=0.6.0->geemap) (2.5)\n",
      "Requirement already satisfied: pycparser in c:\\programdata\\anaconda3\\lib\\site-packages (from cffi>=1.0.1->argon2-cffi-bindings->argon2-cffi>=21.1->jupyter-server<3,>=2.4.0->notebook>=4.4.1->widgetsnbextension~=3.6.6->ipywidgets->ipyfilechooser>=0.6.0->geemap) (2.21)\n",
      "Requirement already satisfied: arrow>=0.15.0 in c:\\programdata\\anaconda3\\lib\\site-packages (from isoduration->jsonschema[format-nongpl]>=4.18.0->jupyter-events>=0.9.0->jupyter-server<3,>=2.4.0->notebook>=4.4.1->widgetsnbextension~=3.6.6->ipywidgets->ipyfilechooser>=0.6.0->geemap) (1.2.3)\n",
      "Downloading geemap-0.35.3-py2.py3-none-any.whl (2.3 MB)\n",
      "   ---------------------------------------- 0.0/2.3 MB ? eta -:--:--\n",
      "   ---------------------------------------- 0.0/2.3 MB ? eta -:--:--\n",
      "   ---------------------------------------- 0.0/2.3 MB ? eta -:--:--\n",
      "   ---------------------------------------- 0.0/2.3 MB ? eta -:--:--\n",
      "   ---------------------------------------- 0.0/2.3 MB ? eta -:--:--\n",
      "   ---- ----------------------------------- 0.3/2.3 MB ? eta -:--:--\n",
      "   ---- ----------------------------------- 0.3/2.3 MB ? eta -:--:--\n",
      "   ---- ----------------------------------- 0.3/2.3 MB ? eta -:--:--\n",
      "   ---- ----------------------------------- 0.3/2.3 MB ? eta -:--:--\n",
      "   --------- ------------------------------ 0.5/2.3 MB 294.2 kB/s eta 0:00:06\n",
      "   --------- ------------------------------ 0.5/2.3 MB 294.2 kB/s eta 0:00:06\n",
      "   ------------- -------------------------- 0.8/2.3 MB 368.7 kB/s eta 0:00:05\n",
      "   ------------- -------------------------- 0.8/2.3 MB 368.7 kB/s eta 0:00:05\n",
      "   ------------- -------------------------- 0.8/2.3 MB 368.7 kB/s eta 0:00:05\n",
      "   ------------- -------------------------- 0.8/2.3 MB 368.7 kB/s eta 0:00:05\n",
      "   ------------- -------------------------- 0.8/2.3 MB 368.7 kB/s eta 0:00:05\n",
      "   ------------------ --------------------- 1.0/2.3 MB 320.6 kB/s eta 0:00:04\n",
      "   ------------------ --------------------- 1.0/2.3 MB 320.6 kB/s eta 0:00:04\n",
      "   ------------------ --------------------- 1.0/2.3 MB 320.6 kB/s eta 0:00:04\n",
      "   ------------------ --------------------- 1.0/2.3 MB 320.6 kB/s eta 0:00:04\n",
      "   ------------------ --------------------- 1.0/2.3 MB 320.6 kB/s eta 0:00:04\n",
      "   ------------------ --------------------- 1.0/2.3 MB 320.6 kB/s eta 0:00:04\n",
      "   ----------------------- ---------------- 1.3/2.3 MB 283.2 kB/s eta 0:00:04\n",
      "   ----------------------- ---------------- 1.3/2.3 MB 283.2 kB/s eta 0:00:04\n",
      "   ----------------------- ---------------- 1.3/2.3 MB 283.2 kB/s eta 0:00:04\n",
      "   ----------------------- ---------------- 1.3/2.3 MB 283.2 kB/s eta 0:00:04\n",
      "   --------------------------- ------------ 1.6/2.3 MB 281.5 kB/s eta 0:00:03\n",
      "   --------------------------- ------------ 1.6/2.3 MB 281.5 kB/s eta 0:00:03\n",
      "   --------------------------- ------------ 1.6/2.3 MB 281.5 kB/s eta 0:00:03\n",
      "   --------------------------- ------------ 1.6/2.3 MB 281.5 kB/s eta 0:00:03\n",
      "   --------------------------- ------------ 1.6/2.3 MB 281.5 kB/s eta 0:00:03\n",
      "   -------------------------------- ------- 1.8/2.3 MB 275.0 kB/s eta 0:00:02\n",
      "   -------------------------------- ------- 1.8/2.3 MB 275.0 kB/s eta 0:00:02\n",
      "   -------------------------------- ------- 1.8/2.3 MB 275.0 kB/s eta 0:00:02\n",
      "   -------------------------------- ------- 1.8/2.3 MB 275.0 kB/s eta 0:00:02\n",
      "   -------------------------------- ------- 1.8/2.3 MB 275.0 kB/s eta 0:00:02\n",
      "   ------------------------------------ --- 2.1/2.3 MB 268.1 kB/s eta 0:00:01\n",
      "   ------------------------------------ --- 2.1/2.3 MB 268.1 kB/s eta 0:00:01\n",
      "   ------------------------------------ --- 2.1/2.3 MB 268.1 kB/s eta 0:00:01\n",
      "   ---------------------------------------- 2.3/2.3 MB 271.3 kB/s eta 0:00:00\n",
      "Downloading eerepr-0.1.2-py3-none-any.whl (9.5 kB)\n",
      "Downloading folium-0.20.0-py2.py3-none-any.whl (113 kB)\n",
      "Downloading ipyfilechooser-0.6.0-py3-none-any.whl (11 kB)\n",
      "Downloading ipyleaflet-0.20.0-py3-none-any.whl (31 kB)\n",
      "Downloading pyshp-2.3.1-py2.py3-none-any.whl (46 kB)\n",
      "Downloading bqplot-0.12.45-py2.py3-none-any.whl (1.2 MB)\n",
      "   ---------------------------------------- 0.0/1.2 MB ? eta -:--:--\n",
      "   ---------------------------------------- 0.0/1.2 MB ? eta -:--:--\n",
      "   ---------------------------------------- 0.0/1.2 MB ? eta -:--:--\n",
      "   ---------------------------------------- 0.0/1.2 MB ? eta -:--:--\n",
      "   ---------------------------------------- 0.0/1.2 MB ? eta -:--:--\n",
      "   ---------------------------------------- 0.0/1.2 MB ? eta -:--:--\n",
      "   ---------------------------------------- 0.0/1.2 MB ? eta -:--:--\n",
      "   ---------------------------------------- 0.0/1.2 MB ? eta -:--:--\n",
      "   ---------------------------------------- 0.0/1.2 MB ? eta -:--:--\n",
      "   ---------------------------------------- 0.0/1.2 MB ? eta -:--:--\n",
      "   ---------------------------------------- 0.0/1.2 MB ? eta -:--:--\n",
      "   ---------------------------------------- 0.0/1.2 MB ? eta -:--:--\n",
      "   ---------------------------------------- 0.0/1.2 MB ? eta -:--:--\n",
      "   ---------------------------------------- 0.0/1.2 MB ? eta -:--:--\n",
      "   ---------------------------------------- 0.0/1.2 MB ? eta -:--:--\n",
      "   ---------------------------------------- 0.0/1.2 MB ? eta -:--:--\n",
      "   -------- ------------------------------- 0.3/1.2 MB ? eta -:--:--\n",
      "   -------- ------------------------------- 0.3/1.2 MB ? eta -:--:--\n",
      "   -------- ------------------------------- 0.3/1.2 MB ? eta -:--:--\n",
      "   ---------------- ----------------------- 0.5/1.2 MB 349.5 kB/s eta 0:00:03\n",
      "   ---------------- ----------------------- 0.5/1.2 MB 349.5 kB/s eta 0:00:03\n",
      "   ---------------- ----------------------- 0.5/1.2 MB 349.5 kB/s eta 0:00:03\n",
      "   ------------------------- -------------- 0.8/1.2 MB 357.1 kB/s eta 0:00:02\n",
      "   ------------------------- -------------- 0.8/1.2 MB 357.1 kB/s eta 0:00:02\n",
      "   ------------------------- -------------- 0.8/1.2 MB 357.1 kB/s eta 0:00:02\n",
      "   ------------------------- -------------- 0.8/1.2 MB 357.1 kB/s eta 0:00:02\n",
      "   --------------------------------- ------ 1.0/1.2 MB 367.5 kB/s eta 0:00:01\n",
      "   --------------------------------- ------ 1.0/1.2 MB 367.5 kB/s eta 0:00:01\n",
      "   --------------------------------- ------ 1.0/1.2 MB 367.5 kB/s eta 0:00:01\n",
      "   ---------------------------------------- 1.2/1.2 MB 348.7 kB/s eta 0:00:00\n",
      "Downloading colour-0.1.5-py2.py3-none-any.whl (23 kB)\n",
      "Downloading geocoder-1.38.1-py2.py3-none-any.whl (98 kB)\n",
      "Downloading ipyevents-2.0.2-py3-none-any.whl (101 kB)\n",
      "Downloading ipytree-0.2.2-py2.py3-none-any.whl (1.3 MB)\n",
      "   ---------------------------------------- 0.0/1.3 MB ? eta -:--:--\n",
      "   ---------------------------------------- 0.0/1.3 MB ? eta -:--:--\n",
      "   ---------------------------------------- 0.0/1.3 MB ? eta -:--:--\n",
      "   ---------------------------------------- 0.0/1.3 MB ? eta -:--:--\n",
      "   ---------------------------------------- 0.0/1.3 MB ? eta -:--:--\n",
      "   -------- ------------------------------- 0.3/1.3 MB ? eta -:--:--\n",
      "   -------- ------------------------------- 0.3/1.3 MB ? eta -:--:--\n",
      "   -------- ------------------------------- 0.3/1.3 MB ? eta -:--:--\n",
      "   ---------------- ----------------------- 0.5/1.3 MB 441.3 kB/s eta 0:00:02\n",
      "   ---------------- ----------------------- 0.5/1.3 MB 441.3 kB/s eta 0:00:02\n",
      "   ---------------- ----------------------- 0.5/1.3 MB 441.3 kB/s eta 0:00:02\n",
      "   ---------------- ----------------------- 0.5/1.3 MB 441.3 kB/s eta 0:00:02\n",
      "   ------------------------ --------------- 0.8/1.3 MB 349.5 kB/s eta 0:00:02\n",
      "   ------------------------ --------------- 0.8/1.3 MB 349.5 kB/s eta 0:00:02\n",
      "   -------------------------------- ------- 1.0/1.3 MB 387.2 kB/s eta 0:00:01\n",
      "   -------------------------------- ------- 1.0/1.3 MB 387.2 kB/s eta 0:00:01\n",
      "   -------------------------------- ------- 1.0/1.3 MB 387.2 kB/s eta 0:00:01\n",
      "   -------------------------------- ------- 1.0/1.3 MB 387.2 kB/s eta 0:00:01\n",
      "   ---------------------------------------- 1.3/1.3 MB 355.8 kB/s eta 0:00:00\n",
      "Downloading python_box-7.3.2-cp312-cp312-win_amd64.whl (1.2 MB)\n",
      "   ---------------------------------------- 0.0/1.2 MB ? eta -:--:--\n",
      "   ---------------------------------------- 0.0/1.2 MB ? eta -:--:--\n",
      "   ---------------------------------------- 0.0/1.2 MB ? eta -:--:--\n",
      "   ---------------------------------------- 0.0/1.2 MB ? eta -:--:--\n",
      "   ---------------------------------------- 0.0/1.2 MB ? eta -:--:--\n",
      "   ---------------------------------------- 0.0/1.2 MB ? eta -:--:--\n",
      "   -------- ------------------------------- 0.3/1.2 MB ? eta -:--:--\n",
      "   -------- ------------------------------- 0.3/1.2 MB ? eta -:--:--\n",
      "   -------- ------------------------------- 0.3/1.2 MB ? eta -:--:--\n",
      "   -------- ------------------------------- 0.3/1.2 MB ? eta -:--:--\n",
      "   ----------------- ---------------------- 0.5/1.2 MB 270.8 kB/s eta 0:00:03\n",
      "   ----------------- ---------------------- 0.5/1.2 MB 270.8 kB/s eta 0:00:03\n",
      "   ----------------- ---------------------- 0.5/1.2 MB 270.8 kB/s eta 0:00:03\n",
      "   ------------------------- -------------- 0.8/1.2 MB 338.9 kB/s eta 0:00:02\n",
      "   ------------------------- -------------- 0.8/1.2 MB 338.9 kB/s eta 0:00:02\n",
      "   ---------------------------------- ----- 1.0/1.2 MB 384.2 kB/s eta 0:00:01\n",
      "   ---------------------------------- ----- 1.0/1.2 MB 384.2 kB/s eta 0:00:01\n",
      "   ---------------------------------- ----- 1.0/1.2 MB 384.2 kB/s eta 0:00:01\n",
      "   ---------------------------------------- 1.2/1.2 MB 363.8 kB/s eta 0:00:00\n",
      "Downloading scooby-0.10.1-py3-none-any.whl (18 kB)\n",
      "Downloading branca-0.8.1-py3-none-any.whl (26 kB)\n",
      "Downloading jupyter_leaflet-0.20.0-py3-none-any.whl (1.1 MB)\n",
      "   ---------------------------------------- 0.0/1.1 MB ? eta -:--:--\n",
      "   ---------------------------------------- 0.0/1.1 MB ? eta -:--:--\n",
      "   ---------------------------------------- 0.0/1.1 MB ? eta -:--:--\n",
      "   --------- ------------------------------ 0.3/1.1 MB ? eta -:--:--\n",
      "   --------- ------------------------------ 0.3/1.1 MB ? eta -:--:--\n",
      "   ------------------ --------------------- 0.5/1.1 MB 524.3 kB/s eta 0:00:02\n",
      "   ------------------ --------------------- 0.5/1.1 MB 524.3 kB/s eta 0:00:02\n",
      "   ---------------------------- ----------- 0.8/1.1 MB 609.6 kB/s eta 0:00:01\n",
      "   ---------------------------- ----------- 0.8/1.1 MB 609.6 kB/s eta 0:00:01\n",
      "   ---------------------------------------- 1.1/1.1 MB 587.6 kB/s eta 0:00:00\n",
      "Downloading traittypes-0.2.1-py2.py3-none-any.whl (8.6 kB)\n",
      "Downloading future-1.0.0-py3-none-any.whl (491 kB)\n",
      "Downloading ratelim-0.1.6-py2.py3-none-any.whl (4.0 kB)\n",
      "Downloading webcolors-24.11.1-py3-none-any.whl (14 kB)\n",
      "Downloading fqdn-1.5.1-py3-none-any.whl (9.1 kB)\n",
      "Downloading isoduration-20.11.0-py3-none-any.whl (11 kB)\n",
      "Downloading uri_template-1.3.0-py3-none-any.whl (11 kB)\n",
      "Building wheels for collected packages: pyperclip\n",
      "  Building wheel for pyperclip (setup.py): started\n",
      "  Building wheel for pyperclip (setup.py): finished with status 'done'\n",
      "  Created wheel for pyperclip: filename=pyperclip-1.9.0-py3-none-any.whl size=11116 sha256=ca6a734637be90f63870804db036c33909407e884f13ddb083eac7b34849a6eb\n",
      "  Stored in directory: c:\\users\\thris\\appdata\\local\\pip\\cache\\wheels\\e0\\e8\\fc\\8ab8aa326e33bc066ccd5f3ca9646eab4299881af933f94f09\n",
      "Successfully built pyperclip\n",
      "Installing collected packages: pyperclip, colour, webcolors, uri-template, traittypes, scooby, ratelim, python-box, pyshp, jupyter-leaflet, future, fqdn, geocoder, branca, isoduration, folium, eerepr, ipytree, ipyleaflet, ipyfilechooser, ipyevents, bqplot, geemap\n",
      "Successfully installed bqplot-0.12.45 branca-0.8.1 colour-0.1.5 eerepr-0.1.2 folium-0.20.0 fqdn-1.5.1 future-1.0.0 geemap-0.35.3 geocoder-1.38.1 ipyevents-2.0.2 ipyfilechooser-0.6.0 ipyleaflet-0.20.0 ipytree-0.2.2 isoduration-20.11.0 jupyter-leaflet-0.20.0 pyperclip-1.9.0 pyshp-2.3.1 python-box-7.3.2 ratelim-0.1.6 scooby-0.10.1 traittypes-0.2.1 uri-template-1.3.0 webcolors-24.11.1\n"
     ]
    },
    {
     "name": "stderr",
     "output_type": "stream",
     "text": [
      "  WARNING: The script scooby.exe is installed in 'C:\\Users\\thris\\AppData\\Roaming\\Python\\Python312\\Scripts' which is not on PATH.\n",
      "  Consider adding this directory to PATH or, if you prefer to suppress this warning, use --no-warn-script-location.\n",
      "  WARNING: The scripts futurize.exe and pasteurize.exe are installed in 'C:\\Users\\thris\\AppData\\Roaming\\Python\\Python312\\Scripts' which is not on PATH.\n",
      "  Consider adding this directory to PATH or, if you prefer to suppress this warning, use --no-warn-script-location.\n",
      "  WARNING: The script geocode.exe is installed in 'C:\\Users\\thris\\AppData\\Roaming\\Python\\Python312\\Scripts' which is not on PATH.\n",
      "  Consider adding this directory to PATH or, if you prefer to suppress this warning, use --no-warn-script-location.\n",
      "  WARNING: The script geemap.exe is installed in 'C:\\Users\\thris\\AppData\\Roaming\\Python\\Python312\\Scripts' which is not on PATH.\n",
      "  Consider adding this directory to PATH or, if you prefer to suppress this warning, use --no-warn-script-location.\n",
      "\n",
      "[notice] A new release of pip is available: 25.0.1 -> 25.1.1\n",
      "[notice] To update, run: python.exe -m pip install --upgrade pip\n"
     ]
    }
   ],
   "source": [
    "#Install Required Packages\n",
    "!pip install earthengine-api\n",
    "!pip install geemap"
   ]
  },
  {
   "cell_type": "code",
   "execution_count": 25,
   "id": "35e213b9-104d-427e-b597-7aa890773fcd",
   "metadata": {},
   "outputs": [
    {
     "data": {
      "text/html": [
       "\n",
       "            <style>\n",
       "                .geemap-dark {\n",
       "                    --jp-widgets-color: white;\n",
       "                    --jp-widgets-label-color: white;\n",
       "                    --jp-ui-font-color1: white;\n",
       "                    --jp-layout-color2: #454545;\n",
       "                    background-color: #383838;\n",
       "                }\n",
       "\n",
       "                .geemap-dark .jupyter-button {\n",
       "                    --jp-layout-color3: #383838;\n",
       "                }\n",
       "\n",
       "                .geemap-colab {\n",
       "                    background-color: var(--colab-primary-surface-color, white);\n",
       "                }\n",
       "\n",
       "                .geemap-colab .jupyter-button {\n",
       "                    --jp-layout-color3: var(--colab-primary-surface-color, white);\n",
       "                }\n",
       "            </style>\n",
       "            "
      ],
      "text/plain": [
       "<IPython.core.display.HTML object>"
      ]
     },
     "metadata": {},
     "output_type": "display_data"
    },
    {
     "name": "stdout",
     "output_type": "stream",
     "text": [
      "Defaulting to user installation because normal site-packages is not writeable\n",
      "Requirement already satisfied: earthengine-api in c:\\users\\thris\\appdata\\roaming\\python\\python312\\site-packages (1.5.20)\n",
      "Requirement already satisfied: google-cloud-storage in c:\\users\\thris\\appdata\\roaming\\python\\python312\\site-packages (from earthengine-api) (3.1.1)\n",
      "Requirement already satisfied: google-api-python-client>=1.12.1 in c:\\users\\thris\\appdata\\roaming\\python\\python312\\site-packages (from earthengine-api) (2.172.0)\n",
      "Requirement already satisfied: google-auth>=1.4.1 in c:\\users\\thris\\appdata\\roaming\\python\\python312\\site-packages (from earthengine-api) (2.40.3)\n",
      "Requirement already satisfied: google-auth-httplib2>=0.0.3 in c:\\users\\thris\\appdata\\roaming\\python\\python312\\site-packages (from earthengine-api) (0.2.0)\n",
      "Requirement already satisfied: httplib2<1dev,>=0.9.2 in c:\\users\\thris\\appdata\\roaming\\python\\python312\\site-packages (from earthengine-api) (0.22.0)\n",
      "Requirement already satisfied: requests in c:\\users\\thris\\appdata\\roaming\\python\\python312\\site-packages (from earthengine-api) (2.32.3)\n",
      "Requirement already satisfied: google-api-core!=2.0.*,!=2.1.*,!=2.2.*,!=2.3.0,<3.0.0,>=1.31.5 in c:\\users\\thris\\appdata\\roaming\\python\\python312\\site-packages (from google-api-python-client>=1.12.1->earthengine-api) (2.25.1)\n",
      "Requirement already satisfied: uritemplate<5,>=3.0.1 in c:\\users\\thris\\appdata\\roaming\\python\\python312\\site-packages (from google-api-python-client>=1.12.1->earthengine-api) (4.2.0)\n",
      "Requirement already satisfied: cachetools<6.0,>=2.0.0 in c:\\users\\thris\\appdata\\roaming\\python\\python312\\site-packages (from google-auth>=1.4.1->earthengine-api) (5.5.2)\n",
      "Requirement already satisfied: pyasn1-modules>=0.2.1 in c:\\programdata\\anaconda3\\lib\\site-packages (from google-auth>=1.4.1->earthengine-api) (0.2.8)\n",
      "Requirement already satisfied: rsa<5,>=3.1.4 in c:\\users\\thris\\appdata\\roaming\\python\\python312\\site-packages (from google-auth>=1.4.1->earthengine-api) (4.9.1)\n",
      "Requirement already satisfied: pyparsing!=3.0.0,!=3.0.1,!=3.0.2,!=3.0.3,<4,>=2.4.2 in c:\\users\\thris\\appdata\\roaming\\python\\python312\\site-packages (from httplib2<1dev,>=0.9.2->earthengine-api) (3.2.1)\n",
      "Requirement already satisfied: google-cloud-core<3.0.0,>=2.4.2 in c:\\users\\thris\\appdata\\roaming\\python\\python312\\site-packages (from google-cloud-storage->earthengine-api) (2.4.3)\n",
      "Requirement already satisfied: google-resumable-media<3.0.0,>=2.7.2 in c:\\users\\thris\\appdata\\roaming\\python\\python312\\site-packages (from google-cloud-storage->earthengine-api) (2.7.2)\n",
      "Requirement already satisfied: google-crc32c<2.0.0,>=1.1.3 in c:\\users\\thris\\appdata\\roaming\\python\\python312\\site-packages (from google-cloud-storage->earthengine-api) (1.7.1)\n",
      "Requirement already satisfied: charset-normalizer<4,>=2 in c:\\users\\thris\\appdata\\roaming\\python\\python312\\site-packages (from requests->earthengine-api) (3.4.1)\n",
      "Requirement already satisfied: idna<4,>=2.5 in c:\\users\\thris\\appdata\\roaming\\python\\python312\\site-packages (from requests->earthengine-api) (3.10)\n",
      "Requirement already satisfied: urllib3<3,>=1.21.1 in c:\\users\\thris\\appdata\\roaming\\python\\python312\\site-packages (from requests->earthengine-api) (2.3.0)\n",
      "Requirement already satisfied: certifi>=2017.4.17 in c:\\users\\thris\\appdata\\roaming\\python\\python312\\site-packages (from requests->earthengine-api) (2025.1.31)\n",
      "Requirement already satisfied: googleapis-common-protos<2.0.0,>=1.56.2 in c:\\users\\thris\\appdata\\roaming\\python\\python312\\site-packages (from google-api-core!=2.0.*,!=2.1.*,!=2.2.*,!=2.3.0,<3.0.0,>=1.31.5->google-api-python-client>=1.12.1->earthengine-api) (1.70.0)\n",
      "Requirement already satisfied: protobuf!=3.20.0,!=3.20.1,!=4.21.0,!=4.21.1,!=4.21.2,!=4.21.3,!=4.21.4,!=4.21.5,<7.0.0,>=3.19.5 in c:\\users\\thris\\appdata\\roaming\\python\\python312\\site-packages (from google-api-core!=2.0.*,!=2.1.*,!=2.2.*,!=2.3.0,<3.0.0,>=1.31.5->google-api-python-client>=1.12.1->earthengine-api) (5.29.4)\n",
      "Requirement already satisfied: proto-plus<2.0.0,>=1.22.3 in c:\\users\\thris\\appdata\\roaming\\python\\python312\\site-packages (from google-api-core!=2.0.*,!=2.1.*,!=2.2.*,!=2.3.0,<3.0.0,>=1.31.5->google-api-python-client>=1.12.1->earthengine-api) (1.26.1)\n",
      "Requirement already satisfied: pyasn1<0.5.0,>=0.4.6 in c:\\programdata\\anaconda3\\lib\\site-packages (from pyasn1-modules>=0.2.1->google-auth>=1.4.1->earthengine-api) (0.4.8)\n"
     ]
    },
    {
     "name": "stderr",
     "output_type": "stream",
     "text": [
      "\n",
      "[notice] A new release of pip is available: 25.0.1 -> 25.1.1\n",
      "[notice] To update, run: python.exe -m pip install --upgrade pip\n"
     ]
    }
   ],
   "source": [
    "!pip install earthengine-api --upgrade"
   ]
  },
  {
   "cell_type": "code",
   "execution_count": 29,
   "id": "2a37521f-8cc9-4cfa-b34b-927c691dcc34",
   "metadata": {},
   "outputs": [
    {
     "data": {
      "text/html": [
       "\n",
       "            <style>\n",
       "                .geemap-dark {\n",
       "                    --jp-widgets-color: white;\n",
       "                    --jp-widgets-label-color: white;\n",
       "                    --jp-ui-font-color1: white;\n",
       "                    --jp-layout-color2: #454545;\n",
       "                    background-color: #383838;\n",
       "                }\n",
       "\n",
       "                .geemap-dark .jupyter-button {\n",
       "                    --jp-layout-color3: #383838;\n",
       "                }\n",
       "\n",
       "                .geemap-colab {\n",
       "                    background-color: var(--colab-primary-surface-color, white);\n",
       "                }\n",
       "\n",
       "                .geemap-colab .jupyter-button {\n",
       "                    --jp-layout-color3: var(--colab-primary-surface-color, white);\n",
       "                }\n",
       "            </style>\n",
       "            "
      ],
      "text/plain": [
       "<IPython.core.display.HTML object>"
      ]
     },
     "metadata": {},
     "output_type": "display_data"
    },
    {
     "data": {
      "text/html": [
       "<p>To authorize access needed by Earth Engine, open the following\n",
       "        URL in a web browser and follow the instructions:</p>\n",
       "        <p><a href=https://code.earthengine.google.com/client-auth?scopes=https%3A//www.googleapis.com/auth/earthengine%20https%3A//www.googleapis.com/auth/cloud-platform%20https%3A//www.googleapis.com/auth/drive%20https%3A//www.googleapis.com/auth/devstorage.full_control&request_id=v6FahYkmyPWy4SsULVrhoZpghuGJv4wcaflLLWZbn-M&tc=WV0F435hDbYHcrdB6PEEWnC_josJQz0PC_SJl6rdILw&cc=T61KboKpz9fX5zhhdbbNflND6_IQ4oc9CwsbK1ERFIU>https://code.earthengine.google.com/client-auth?scopes=https%3A//www.googleapis.com/auth/earthengine%20https%3A//www.googleapis.com/auth/cloud-platform%20https%3A//www.googleapis.com/auth/drive%20https%3A//www.googleapis.com/auth/devstorage.full_control&request_id=v6FahYkmyPWy4SsULVrhoZpghuGJv4wcaflLLWZbn-M&tc=WV0F435hDbYHcrdB6PEEWnC_josJQz0PC_SJl6rdILw&cc=T61KboKpz9fX5zhhdbbNflND6_IQ4oc9CwsbK1ERFIU</a></p>\n",
       "        <p>The authorization workflow will generate a code, which you should paste in the box below.</p>\n",
       "        "
      ],
      "text/plain": [
       "<IPython.core.display.HTML object>"
      ]
     },
     "metadata": {},
     "output_type": "display_data"
    },
    {
     "name": "stdin",
     "output_type": "stream",
     "text": [
      "Enter verification code:  4/1AVMBsJj07SQXeTVw0tpVSmbdCFK8Y_2_vSp0CLuTYcPLwTOlU6Qqjw0ifBc\n"
     ]
    },
    {
     "name": "stdout",
     "output_type": "stream",
     "text": [
      "\n",
      "Successfully saved authorization token.\n"
     ]
    }
   ],
   "source": [
    "#Authenticate GEE\n",
    "import ee\n",
    "\n",
    "# Initialize Earth Engine\n",
    "ee.Authenticate()\n",
    "ee.Initialize()"
   ]
  },
  {
   "cell_type": "code",
   "execution_count": 30,
   "id": "7a144a05-b5b8-4ba1-aff1-76ccebbfab13",
   "metadata": {},
   "outputs": [
    {
     "data": {
      "text/html": [
       "\n",
       "            <style>\n",
       "                .geemap-dark {\n",
       "                    --jp-widgets-color: white;\n",
       "                    --jp-widgets-label-color: white;\n",
       "                    --jp-ui-font-color1: white;\n",
       "                    --jp-layout-color2: #454545;\n",
       "                    background-color: #383838;\n",
       "                }\n",
       "\n",
       "                .geemap-dark .jupyter-button {\n",
       "                    --jp-layout-color3: #383838;\n",
       "                }\n",
       "\n",
       "                .geemap-colab {\n",
       "                    background-color: var(--colab-primary-surface-color, white);\n",
       "                }\n",
       "\n",
       "                .geemap-colab .jupyter-button {\n",
       "                    --jp-layout-color3: var(--colab-primary-surface-color, white);\n",
       "                }\n",
       "            </style>\n",
       "            "
      ],
      "text/plain": [
       "<IPython.core.display.HTML object>"
      ]
     },
     "metadata": {},
     "output_type": "display_data"
    },
    {
     "name": "stdout",
     "output_type": "stream",
     "text": [
      "Earth Engine Initialized\n"
     ]
    }
   ],
   "source": [
    "# Step 1: Import libraries\n",
    "import ee\n",
    "\n",
    "# Step 2: Initialize Earth Engine (token already saved earlier)\n",
    "ee.Initialize()\n",
    "\n",
    "print(\"Earth Engine Initialized\")"
   ]
  },
  {
   "cell_type": "code",
   "execution_count": 31,
   "id": "719e3d45-898c-447a-9be1-e493f7e3b0b9",
   "metadata": {},
   "outputs": [
    {
     "data": {
      "text/html": [
       "\n",
       "            <style>\n",
       "                .geemap-dark {\n",
       "                    --jp-widgets-color: white;\n",
       "                    --jp-widgets-label-color: white;\n",
       "                    --jp-ui-font-color1: white;\n",
       "                    --jp-layout-color2: #454545;\n",
       "                    background-color: #383838;\n",
       "                }\n",
       "\n",
       "                .geemap-dark .jupyter-button {\n",
       "                    --jp-layout-color3: #383838;\n",
       "                }\n",
       "\n",
       "                .geemap-colab {\n",
       "                    background-color: var(--colab-primary-surface-color, white);\n",
       "                }\n",
       "\n",
       "                .geemap-colab .jupyter-button {\n",
       "                    --jp-layout-color3: var(--colab-primary-surface-color, white);\n",
       "                }\n",
       "            </style>\n",
       "            "
      ],
      "text/plain": [
       "<IPython.core.display.HTML object>"
      ]
     },
     "metadata": {},
     "output_type": "display_data"
    },
    {
     "name": "stdout",
     "output_type": "stream",
     "text": [
      "India selected as area of interest\n"
     ]
    }
   ],
   "source": [
    "# Step 3: Define India as AOI from GAUL (FAO Global Admin dataset)\n",
    "countries = ee.FeatureCollection(\"FAO/GAUL/2015/level0\")\n",
    "india = countries.filter(ee.Filter.eq('ADM0_NAME', 'India'))\n",
    "\n",
    "print(\"India selected as area of interest\")"
   ]
  },
  {
   "cell_type": "code",
   "execution_count": 32,
   "id": "48f91008-73f4-4550-9089-cc4dff183ea7",
   "metadata": {},
   "outputs": [
    {
     "data": {
      "text/html": [
       "\n",
       "            <style>\n",
       "                .geemap-dark {\n",
       "                    --jp-widgets-color: white;\n",
       "                    --jp-widgets-label-color: white;\n",
       "                    --jp-ui-font-color1: white;\n",
       "                    --jp-layout-color2: #454545;\n",
       "                    background-color: #383838;\n",
       "                }\n",
       "\n",
       "                .geemap-dark .jupyter-button {\n",
       "                    --jp-layout-color3: #383838;\n",
       "                }\n",
       "\n",
       "                .geemap-colab {\n",
       "                    background-color: var(--colab-primary-surface-color, white);\n",
       "                }\n",
       "\n",
       "                .geemap-colab .jupyter-button {\n",
       "                    --jp-layout-color3: var(--colab-primary-surface-color, white);\n",
       "                }\n",
       "            </style>\n",
       "            "
      ],
      "text/plain": [
       "<IPython.core.display.HTML object>"
      ]
     },
     "metadata": {},
     "output_type": "display_data"
    },
    {
     "name": "stdout",
     "output_type": "stream",
     "text": [
      "Sentinel-2 ImageCollection loaded\n"
     ]
    },
    {
     "name": "stderr",
     "output_type": "stream",
     "text": [
      "C:\\Users\\thris\\AppData\\Roaming\\Python\\Python312\\site-packages\\ee\\deprecation.py:207: DeprecationWarning: \n",
      "\n",
      "Attention required for COPERNICUS/S2_SR! You are using a deprecated asset.\n",
      "To make sure your code keeps working, please update it.\n",
      "Learn more: https://developers.google.com/earth-engine/datasets/catalog/COPERNICUS_S2_SR\n",
      "\n",
      "  warnings.warn(warning, category=DeprecationWarning)\n"
     ]
    }
   ],
   "source": [
    "# Step 4: Load Sentinel-2 data, filter by date and cloud cover\n",
    "sentinel = ee.ImageCollection(\"COPERNICUS/S2_SR\") \\\n",
    "    .filterBounds(india) \\\n",
    "    .filterDate('2023-11-01', '2023-11-30') \\\n",
    "    .filter(ee.Filter.lt('CLOUDY_PIXEL_PERCENTAGE', 10)) \\\n",
    "    .median()\n",
    "\n",
    "print(\"Sentinel-2 ImageCollection loaded\")"
   ]
  },
  {
   "cell_type": "code",
   "execution_count": 33,
   "id": "e02024f7-e9d4-4403-8c01-063626aaad74",
   "metadata": {},
   "outputs": [
    {
     "data": {
      "text/html": [
       "\n",
       "            <style>\n",
       "                .geemap-dark {\n",
       "                    --jp-widgets-color: white;\n",
       "                    --jp-widgets-label-color: white;\n",
       "                    --jp-ui-font-color1: white;\n",
       "                    --jp-layout-color2: #454545;\n",
       "                    background-color: #383838;\n",
       "                }\n",
       "\n",
       "                .geemap-dark .jupyter-button {\n",
       "                    --jp-layout-color3: #383838;\n",
       "                }\n",
       "\n",
       "                .geemap-colab {\n",
       "                    background-color: var(--colab-primary-surface-color, white);\n",
       "                }\n",
       "\n",
       "                .geemap-colab .jupyter-button {\n",
       "                    --jp-layout-color3: var(--colab-primary-surface-color, white);\n",
       "                }\n",
       "            </style>\n",
       "            "
      ],
      "text/plain": [
       "<IPython.core.display.HTML object>"
      ]
     },
     "metadata": {},
     "output_type": "display_data"
    },
    {
     "name": "stdout",
     "output_type": "stream",
     "text": [
      "NDVI calculated and clipped to India\n"
     ]
    }
   ],
   "source": [
    "# Step 5: NDVI = (NIR - RED) / (NIR + RED)\n",
    "ndvi = sentinel.normalizedDifference(['B8', 'B4']).rename('NDVI')\n",
    "ndvi_clipped = ndvi.clip(india)\n",
    "\n",
    "print(\"NDVI calculated and clipped to India\")"
   ]
  },
  {
   "cell_type": "code",
   "execution_count": 36,
   "id": "45c2b3ae-316d-409b-b4c5-628ce4ac990f",
   "metadata": {},
   "outputs": [
    {
     "data": {
      "text/html": [
       "\n",
       "            <style>\n",
       "                .geemap-dark {\n",
       "                    --jp-widgets-color: white;\n",
       "                    --jp-widgets-label-color: white;\n",
       "                    --jp-ui-font-color1: white;\n",
       "                    --jp-layout-color2: #454545;\n",
       "                    background-color: #383838;\n",
       "                }\n",
       "\n",
       "                .geemap-dark .jupyter-button {\n",
       "                    --jp-layout-color3: #383838;\n",
       "                }\n",
       "\n",
       "                .geemap-colab {\n",
       "                    background-color: var(--colab-primary-surface-color, white);\n",
       "                }\n",
       "\n",
       "                .geemap-colab .jupyter-button {\n",
       "                    --jp-layout-color3: var(--colab-primary-surface-color, white);\n",
       "                }\n",
       "            </style>\n",
       "            "
      ],
      "text/plain": [
       "<IPython.core.display.HTML object>"
      ]
     },
     "metadata": {},
     "output_type": "display_data"
    },
    {
     "name": "stdout",
     "output_type": "stream",
     "text": [
      "Mean NDVI for India in Nov 2023: 0.2775\n"
     ]
    }
   ],
   "source": [
    "#Step 6: Calculate India’s Mean NDVI directly\n",
    "mean_dict = ndvi_clipped.reduceRegion(\n",
    "    reducer=ee.Reducer.mean(),\n",
    "    geometry=india.geometry(),\n",
    "    scale=500,\n",
    "    maxPixels=1e13\n",
    ")\n",
    "\n",
    "# Extract the mean value\n",
    "mean_ndvi = mean_dict.get(\"NDVI\").getInfo()\n",
    "print(f\"Mean NDVI for India in Nov 2023: {mean_ndvi:.4f}\")"
   ]
  },
  {
   "cell_type": "code",
   "execution_count": 37,
   "id": "91d10f4e-8c38-44be-8a51-96b6df60953e",
   "metadata": {},
   "outputs": [
    {
     "data": {
      "text/html": [
       "\n",
       "            <style>\n",
       "                .geemap-dark {\n",
       "                    --jp-widgets-color: white;\n",
       "                    --jp-widgets-label-color: white;\n",
       "                    --jp-ui-font-color1: white;\n",
       "                    --jp-layout-color2: #454545;\n",
       "                    background-color: #383838;\n",
       "                }\n",
       "\n",
       "                .geemap-dark .jupyter-button {\n",
       "                    --jp-layout-color3: #383838;\n",
       "                }\n",
       "\n",
       "                .geemap-colab {\n",
       "                    background-color: var(--colab-primary-surface-color, white);\n",
       "                }\n",
       "\n",
       "                .geemap-colab .jupyter-button {\n",
       "                    --jp-layout-color3: var(--colab-primary-surface-color, white);\n",
       "                }\n",
       "            </style>\n",
       "            "
      ],
      "text/plain": [
       "<IPython.core.display.HTML object>"
      ]
     },
     "metadata": {},
     "output_type": "display_data"
    },
    {
     "name": "stdout",
     "output_type": "stream",
     "text": [
      "NDVI added to crop yield data\n"
     ]
    }
   ],
   "source": [
    "#step 7: Add NDVI value for the cleaned_crop_yield_india.csv dataset\n",
    "import pandas as pd\n",
    "\n",
    "df_yield = pd.read_csv(\"cleaned_crop_yield_india.csv\")\n",
    "df_yield[\"NDVI_mean\"] = mean_ndvi\n",
    "df_yield.to_csv(\"cleaned_crop_yield_india_with_ndvi.csv\", index=False)\n",
    "print(\"NDVI added to crop yield data\")"
   ]
  },
  {
   "cell_type": "code",
   "execution_count": 38,
   "id": "2e227f09-dbe3-4723-ab27-a4664bf05650",
   "metadata": {},
   "outputs": [
    {
     "data": {
      "text/html": [
       "\n",
       "            <style>\n",
       "                .geemap-dark {\n",
       "                    --jp-widgets-color: white;\n",
       "                    --jp-widgets-label-color: white;\n",
       "                    --jp-ui-font-color1: white;\n",
       "                    --jp-layout-color2: #454545;\n",
       "                    background-color: #383838;\n",
       "                }\n",
       "\n",
       "                .geemap-dark .jupyter-button {\n",
       "                    --jp-layout-color3: #383838;\n",
       "                }\n",
       "\n",
       "                .geemap-colab {\n",
       "                    background-color: var(--colab-primary-surface-color, white);\n",
       "                }\n",
       "\n",
       "                .geemap-colab .jupyter-button {\n",
       "                    --jp-layout-color3: var(--colab-primary-surface-color, white);\n",
       "                }\n",
       "            </style>\n",
       "            "
      ],
      "text/plain": [
       "<IPython.core.display.HTML object>"
      ]
     },
     "metadata": {},
     "output_type": "display_data"
    },
    {
     "name": "stdout",
     "output_type": "stream",
     "text": [
      "NDVI added to forecast weather data\n"
     ]
    }
   ],
   "source": [
    "#step 8: Add NDVI value for the forecast_weather_data.csv dataset\n",
    "df_weather = pd.read_csv(\"forecast_weather_data.csv\")\n",
    "df_weather[\"NDVI_mean\"] = mean_ndvi\n",
    "df_weather.to_csv(\"forecast_weather_data_with_ndvi.csv\", index=False)\n",
    "print(\"NDVI added to forecast weather data\")"
   ]
  },
  {
   "cell_type": "code",
   "execution_count": 39,
   "id": "b07f6324-c64e-46d6-ac8b-7eb40434da73",
   "metadata": {},
   "outputs": [
    {
     "data": {
      "text/html": [
       "\n",
       "            <style>\n",
       "                .geemap-dark {\n",
       "                    --jp-widgets-color: white;\n",
       "                    --jp-widgets-label-color: white;\n",
       "                    --jp-ui-font-color1: white;\n",
       "                    --jp-layout-color2: #454545;\n",
       "                    background-color: #383838;\n",
       "                }\n",
       "\n",
       "                .geemap-dark .jupyter-button {\n",
       "                    --jp-layout-color3: #383838;\n",
       "                }\n",
       "\n",
       "                .geemap-colab {\n",
       "                    background-color: var(--colab-primary-surface-color, white);\n",
       "                }\n",
       "\n",
       "                .geemap-colab .jupyter-button {\n",
       "                    --jp-layout-color3: var(--colab-primary-surface-color, white);\n",
       "                }\n",
       "            </style>\n",
       "            "
      ],
      "text/plain": [
       "<IPython.core.display.HTML object>"
      ]
     },
     "metadata": {},
     "output_type": "display_data"
    },
    {
     "name": "stdout",
     "output_type": "stream",
     "text": [
      "Final dataset saved as 'final_combined_dataset.csv'\n"
     ]
    }
   ],
   "source": [
    "import pandas as pd\n",
    "\n",
    "# Step 1: Load the cleaned FAO yield dataset\n",
    "df_yield = pd.read_csv(\"cleaned_crop_yield_india.csv\")\n",
    "\n",
    "# Step 2: Load your forecast weather data\n",
    "df_weather = pd.read_csv(\"forecast_weather_data.csv\")\n",
    "\n",
    "# Step 3: Reset index for clean concat (optional but safe)\n",
    "df_yield = df_yield.reset_index(drop=True)\n",
    "df_weather = df_weather.reset_index(drop=True)\n",
    "\n",
    "# Step 4: Concatenate horizontally (side by side)\n",
    "df_combined = pd.concat([df_yield, df_weather], axis=1)\n",
    "\n",
    "# Step 5: Add NDVI value only once (to all rows as it's same for whole region)\n",
    "ndvi_value = 0.2775  # replace with your computed value if stored in a variable\n",
    "df_combined[\"NDVI_mean\"] = ndvi_value\n",
    "\n",
    "# Step 6: Save to CSV\n",
    "df_combined.to_csv(\"final_combined_dataset.csv\", index=False)\n",
    "\n",
    "print(\"Final dataset saved as 'final_combined_dataset.csv'\")"
   ]
  },
  {
   "cell_type": "markdown",
   "id": "6abf754c-f747-4426-86b0-197c0deb8461",
   "metadata": {},
   "source": [
    "<strong> MODEL DESIGN – Feedforward Neural Net (Fusion model)</strong>"
   ]
  },
  {
   "cell_type": "code",
   "execution_count": 40,
   "id": "cc181110-06aa-4449-a07f-06b46e7d0f1b",
   "metadata": {},
   "outputs": [
    {
     "data": {
      "text/html": [
       "\n",
       "            <style>\n",
       "                .geemap-dark {\n",
       "                    --jp-widgets-color: white;\n",
       "                    --jp-widgets-label-color: white;\n",
       "                    --jp-ui-font-color1: white;\n",
       "                    --jp-layout-color2: #454545;\n",
       "                    background-color: #383838;\n",
       "                }\n",
       "\n",
       "                .geemap-dark .jupyter-button {\n",
       "                    --jp-layout-color3: #383838;\n",
       "                }\n",
       "\n",
       "                .geemap-colab {\n",
       "                    background-color: var(--colab-primary-surface-color, white);\n",
       "                }\n",
       "\n",
       "                .geemap-colab .jupyter-button {\n",
       "                    --jp-layout-color3: var(--colab-primary-surface-color, white);\n",
       "                }\n",
       "            </style>\n",
       "            "
      ],
      "text/plain": [
       "<IPython.core.display.HTML object>"
      ]
     },
     "metadata": {},
     "output_type": "display_data"
    },
    {
     "data": {
      "text/html": [
       "<div>\n",
       "<style scoped>\n",
       "    .dataframe tbody tr th:only-of-type {\n",
       "        vertical-align: middle;\n",
       "    }\n",
       "\n",
       "    .dataframe tbody tr th {\n",
       "        vertical-align: top;\n",
       "    }\n",
       "\n",
       "    .dataframe thead th {\n",
       "        text-align: right;\n",
       "    }\n",
       "</style>\n",
       "<table border=\"1\" class=\"dataframe\">\n",
       "  <thead>\n",
       "    <tr style=\"text-align: right;\">\n",
       "      <th></th>\n",
       "      <th>Crop</th>\n",
       "      <th>Year</th>\n",
       "      <th>Element</th>\n",
       "      <th>Yield_kg_per_ha</th>\n",
       "      <th>Unit</th>\n",
       "      <th>DateTime</th>\n",
       "      <th>Temperature_C</th>\n",
       "      <th>Humidity_%</th>\n",
       "      <th>Rainfall_mm</th>\n",
       "      <th>NDVI_mean</th>\n",
       "    </tr>\n",
       "  </thead>\n",
       "  <tbody>\n",
       "    <tr>\n",
       "      <th>0</th>\n",
       "      <td>Apples</td>\n",
       "      <td>2013</td>\n",
       "      <td>Yield</td>\n",
       "      <td>6137.8</td>\n",
       "      <td>kg/ha</td>\n",
       "      <td>2025-06-19 09:00:00</td>\n",
       "      <td>34.19</td>\n",
       "      <td>46.0</td>\n",
       "      <td>0.57</td>\n",
       "      <td>0.2775</td>\n",
       "    </tr>\n",
       "    <tr>\n",
       "      <th>1</th>\n",
       "      <td>Apples</td>\n",
       "      <td>2014</td>\n",
       "      <td>Yield</td>\n",
       "      <td>7978.8</td>\n",
       "      <td>kg/ha</td>\n",
       "      <td>2025-06-19 12:00:00</td>\n",
       "      <td>33.78</td>\n",
       "      <td>47.0</td>\n",
       "      <td>0.78</td>\n",
       "      <td>0.2775</td>\n",
       "    </tr>\n",
       "    <tr>\n",
       "      <th>2</th>\n",
       "      <td>Apples</td>\n",
       "      <td>2015</td>\n",
       "      <td>Yield</td>\n",
       "      <td>6689.7</td>\n",
       "      <td>kg/ha</td>\n",
       "      <td>2025-06-19 15:00:00</td>\n",
       "      <td>29.31</td>\n",
       "      <td>68.0</td>\n",
       "      <td>5.65</td>\n",
       "      <td>0.2775</td>\n",
       "    </tr>\n",
       "    <tr>\n",
       "      <th>3</th>\n",
       "      <td>Apples</td>\n",
       "      <td>2016</td>\n",
       "      <td>Yield</td>\n",
       "      <td>9101.1</td>\n",
       "      <td>kg/ha</td>\n",
       "      <td>2025-06-19 18:00:00</td>\n",
       "      <td>26.72</td>\n",
       "      <td>61.0</td>\n",
       "      <td>3.64</td>\n",
       "      <td>0.2775</td>\n",
       "    </tr>\n",
       "    <tr>\n",
       "      <th>4</th>\n",
       "      <td>Apples</td>\n",
       "      <td>2017</td>\n",
       "      <td>Yield</td>\n",
       "      <td>7426.2</td>\n",
       "      <td>kg/ha</td>\n",
       "      <td>2025-06-19 21:00:00</td>\n",
       "      <td>27.28</td>\n",
       "      <td>65.0</td>\n",
       "      <td>0.10</td>\n",
       "      <td>0.2775</td>\n",
       "    </tr>\n",
       "  </tbody>\n",
       "</table>\n",
       "</div>"
      ],
      "text/plain": [
       "     Crop  Year Element  Yield_kg_per_ha   Unit             DateTime  \\\n",
       "0  Apples  2013   Yield           6137.8  kg/ha  2025-06-19 09:00:00   \n",
       "1  Apples  2014   Yield           7978.8  kg/ha  2025-06-19 12:00:00   \n",
       "2  Apples  2015   Yield           6689.7  kg/ha  2025-06-19 15:00:00   \n",
       "3  Apples  2016   Yield           9101.1  kg/ha  2025-06-19 18:00:00   \n",
       "4  Apples  2017   Yield           7426.2  kg/ha  2025-06-19 21:00:00   \n",
       "\n",
       "   Temperature_C  Humidity_%  Rainfall_mm  NDVI_mean  \n",
       "0          34.19        46.0         0.57     0.2775  \n",
       "1          33.78        47.0         0.78     0.2775  \n",
       "2          29.31        68.0         5.65     0.2775  \n",
       "3          26.72        61.0         3.64     0.2775  \n",
       "4          27.28        65.0         0.10     0.2775  "
      ]
     },
     "execution_count": 40,
     "metadata": {},
     "output_type": "execute_result"
    }
   ],
   "source": [
    "#Step 1: Import & Load Data\n",
    "import pandas as pd\n",
    "import numpy as np\n",
    "from sklearn.model_selection import train_test_split\n",
    "from sklearn.preprocessing import LabelEncoder, MinMaxScaler\n",
    "import tensorflow as tf\n",
    "from tensorflow import keras\n",
    "import matplotlib.pyplot as plt\n",
    "import seaborn as sns\n",
    "\n",
    "# Load your final merged dataset\n",
    "df = pd.read_csv(\"final_combined_dataset.csv\")\n",
    "\n",
    "# Show sample\n",
    "df.head()"
   ]
  },
  {
   "cell_type": "code",
   "execution_count": 43,
   "id": "2fdd13cb-5f1b-4de3-b6aa-dd835539d323",
   "metadata": {},
   "outputs": [
    {
     "data": {
      "text/html": [
       "\n",
       "            <style>\n",
       "                .geemap-dark {\n",
       "                    --jp-widgets-color: white;\n",
       "                    --jp-widgets-label-color: white;\n",
       "                    --jp-ui-font-color1: white;\n",
       "                    --jp-layout-color2: #454545;\n",
       "                    background-color: #383838;\n",
       "                }\n",
       "\n",
       "                .geemap-dark .jupyter-button {\n",
       "                    --jp-layout-color3: #383838;\n",
       "                }\n",
       "\n",
       "                .geemap-colab {\n",
       "                    background-color: var(--colab-primary-surface-color, white);\n",
       "                }\n",
       "\n",
       "                .geemap-colab .jupyter-button {\n",
       "                    --jp-layout-color3: var(--colab-primary-surface-color, white);\n",
       "                }\n",
       "            </style>\n",
       "            "
      ],
      "text/plain": [
       "<IPython.core.display.HTML object>"
      ]
     },
     "metadata": {},
     "output_type": "display_data"
    }
   ],
   "source": [
    "#Step 2: Preprocess Data\n",
    "# Encode categorical 'Crop'\n",
    "le_crop = LabelEncoder()\n",
    "df['Crop_encoded'] = le_crop.fit_transform(df['Crop'])\n",
    "\n",
    "# Select features and label\n",
    "X = df[['Crop_encoded', 'Year', 'NDVI_mean']]\n",
    "y = df['Yield_kg_per_ha']\n",
    "\n",
    "# Normalize features\n",
    "scaler = MinMaxScaler()\n",
    "X_scaled = scaler.fit_transform(X)\n",
    "\n",
    "# Train-test split\n",
    "X_train, X_test, y_train, y_test = train_test_split(X_scaled, y, test_size=0.2, random_state=42)"
   ]
  },
  {
   "cell_type": "code",
   "execution_count": 44,
   "id": "1dfd4683-e6b7-4470-9d68-501d9aa2917c",
   "metadata": {},
   "outputs": [
    {
     "data": {
      "text/html": [
       "\n",
       "            <style>\n",
       "                .geemap-dark {\n",
       "                    --jp-widgets-color: white;\n",
       "                    --jp-widgets-label-color: white;\n",
       "                    --jp-ui-font-color1: white;\n",
       "                    --jp-layout-color2: #454545;\n",
       "                    background-color: #383838;\n",
       "                }\n",
       "\n",
       "                .geemap-dark .jupyter-button {\n",
       "                    --jp-layout-color3: #383838;\n",
       "                }\n",
       "\n",
       "                .geemap-colab {\n",
       "                    background-color: var(--colab-primary-surface-color, white);\n",
       "                }\n",
       "\n",
       "                .geemap-colab .jupyter-button {\n",
       "                    --jp-layout-color3: var(--colab-primary-surface-color, white);\n",
       "                }\n",
       "            </style>\n",
       "            "
      ],
      "text/plain": [
       "<IPython.core.display.HTML object>"
      ]
     },
     "metadata": {},
     "output_type": "display_data"
    },
    {
     "name": "stderr",
     "output_type": "stream",
     "text": [
      "C:\\Users\\thris\\AppData\\Roaming\\Python\\Python312\\site-packages\\keras\\src\\layers\\core\\dense.py:87: UserWarning: Do not pass an `input_shape`/`input_dim` argument to a layer. When using Sequential models, prefer using an `Input(shape)` object as the first layer in the model instead.\n",
      "  super().__init__(activity_regularizer=activity_regularizer, **kwargs)\n"
     ]
    },
    {
     "name": "stdout",
     "output_type": "stream",
     "text": [
      "Epoch 1/100\n",
      "\u001b[1m3/3\u001b[0m \u001b[32m━━━━━━━━━━━━━━━━━━━━\u001b[0m\u001b[37m\u001b[0m \u001b[1m2s\u001b[0m 162ms/step - loss: 549960640.0000 - mae: 13889.3281 - val_loss: 343235200.0000 - val_mae: 9354.4678\n",
      "Epoch 2/100\n",
      "\u001b[1m3/3\u001b[0m \u001b[32m━━━━━━━━━━━━━━━━━━━━\u001b[0m\u001b[37m\u001b[0m \u001b[1m0s\u001b[0m 79ms/step - loss: 419138368.0000 - mae: 12361.1758 - val_loss: 343233824.0000 - val_mae: 9354.3965\n",
      "Epoch 3/100\n",
      "\u001b[1m3/3\u001b[0m \u001b[32m━━━━━━━━━━━━━━━━━━━━\u001b[0m\u001b[37m\u001b[0m \u001b[1m0s\u001b[0m 63ms/step - loss: 454916512.0000 - mae: 12745.4375 - val_loss: 343232352.0000 - val_mae: 9354.3242\n",
      "Epoch 4/100\n",
      "\u001b[1m3/3\u001b[0m \u001b[32m━━━━━━━━━━━━━━━━━━━━\u001b[0m\u001b[37m\u001b[0m \u001b[1m0s\u001b[0m 64ms/step - loss: 521713024.0000 - mae: 13720.9033 - val_loss: 343230816.0000 - val_mae: 9354.2490\n",
      "Epoch 5/100\n",
      "\u001b[1m3/3\u001b[0m \u001b[32m━━━━━━━━━━━━━━━━━━━━\u001b[0m\u001b[37m\u001b[0m \u001b[1m0s\u001b[0m 68ms/step - loss: 452752448.0000 - mae: 12997.8594 - val_loss: 343229248.0000 - val_mae: 9354.1689\n",
      "Epoch 6/100\n",
      "\u001b[1m3/3\u001b[0m \u001b[32m━━━━━━━━━━━━━━━━━━━━\u001b[0m\u001b[37m\u001b[0m \u001b[1m0s\u001b[0m 78ms/step - loss: 447131648.0000 - mae: 12996.1240 - val_loss: 343227488.0000 - val_mae: 9354.0801\n",
      "Epoch 7/100\n",
      "\u001b[1m3/3\u001b[0m \u001b[32m━━━━━━━━━━━━━━━━━━━━\u001b[0m\u001b[37m\u001b[0m \u001b[1m0s\u001b[0m 69ms/step - loss: 408659968.0000 - mae: 12238.7207 - val_loss: 343225568.0000 - val_mae: 9353.9854\n",
      "Epoch 8/100\n",
      "\u001b[1m3/3\u001b[0m \u001b[32m━━━━━━━━━━━━━━━━━━━━\u001b[0m\u001b[37m\u001b[0m \u001b[1m0s\u001b[0m 55ms/step - loss: 453147424.0000 - mae: 12495.4785 - val_loss: 343223488.0000 - val_mae: 9353.8818\n",
      "Epoch 9/100\n",
      "\u001b[1m3/3\u001b[0m \u001b[32m━━━━━━━━━━━━━━━━━━━━\u001b[0m\u001b[37m\u001b[0m \u001b[1m0s\u001b[0m 68ms/step - loss: 549068736.0000 - mae: 14276.4775 - val_loss: 343221184.0000 - val_mae: 9353.7656\n",
      "Epoch 10/100\n",
      "\u001b[1m3/3\u001b[0m \u001b[32m━━━━━━━━━━━━━━━━━━━━\u001b[0m\u001b[37m\u001b[0m \u001b[1m0s\u001b[0m 69ms/step - loss: 560516352.0000 - mae: 14356.2520 - val_loss: 343218720.0000 - val_mae: 9353.6416\n",
      "Epoch 11/100\n",
      "\u001b[1m3/3\u001b[0m \u001b[32m━━━━━━━━━━━━━━━━━━━━\u001b[0m\u001b[37m\u001b[0m \u001b[1m0s\u001b[0m 65ms/step - loss: 627302272.0000 - mae: 14754.8047 - val_loss: 343216064.0000 - val_mae: 9353.5059\n",
      "Epoch 12/100\n",
      "\u001b[1m3/3\u001b[0m \u001b[32m━━━━━━━━━━━━━━━━━━━━\u001b[0m\u001b[37m\u001b[0m \u001b[1m0s\u001b[0m 67ms/step - loss: 464261056.0000 - mae: 12625.0488 - val_loss: 343213184.0000 - val_mae: 9353.3604\n",
      "Epoch 13/100\n",
      "\u001b[1m3/3\u001b[0m \u001b[32m━━━━━━━━━━━━━━━━━━━━\u001b[0m\u001b[37m\u001b[0m \u001b[1m0s\u001b[0m 53ms/step - loss: 445273376.0000 - mae: 12724.3047 - val_loss: 343209984.0000 - val_mae: 9353.1982\n",
      "Epoch 14/100\n",
      "\u001b[1m3/3\u001b[0m \u001b[32m━━━━━━━━━━━━━━━━━━━━\u001b[0m\u001b[37m\u001b[0m \u001b[1m0s\u001b[0m 55ms/step - loss: 437739008.0000 - mae: 12612.8076 - val_loss: 343206560.0000 - val_mae: 9353.0225\n",
      "Epoch 15/100\n",
      "\u001b[1m3/3\u001b[0m \u001b[32m━━━━━━━━━━━━━━━━━━━━\u001b[0m\u001b[37m\u001b[0m \u001b[1m0s\u001b[0m 65ms/step - loss: 501976448.0000 - mae: 13270.9424 - val_loss: 343202752.0000 - val_mae: 9352.8271\n",
      "Epoch 16/100\n",
      "\u001b[1m3/3\u001b[0m \u001b[32m━━━━━━━━━━━━━━━━━━━━\u001b[0m\u001b[37m\u001b[0m \u001b[1m0s\u001b[0m 63ms/step - loss: 514819520.0000 - mae: 13190.7402 - val_loss: 343198560.0000 - val_mae: 9352.6123\n",
      "Epoch 17/100\n",
      "\u001b[1m3/3\u001b[0m \u001b[32m━━━━━━━━━━━━━━━━━━━━\u001b[0m\u001b[37m\u001b[0m \u001b[1m0s\u001b[0m 67ms/step - loss: 489458240.0000 - mae: 12949.9912 - val_loss: 343193984.0000 - val_mae: 9352.3760\n",
      "Epoch 18/100\n",
      "\u001b[1m3/3\u001b[0m \u001b[32m━━━━━━━━━━━━━━━━━━━━\u001b[0m\u001b[37m\u001b[0m \u001b[1m0s\u001b[0m 64ms/step - loss: 641603456.0000 - mae: 15466.7168 - val_loss: 343188864.0000 - val_mae: 9352.1162\n",
      "Epoch 19/100\n",
      "\u001b[1m3/3\u001b[0m \u001b[32m━━━━━━━━━━━━━━━━━━━━\u001b[0m\u001b[37m\u001b[0m \u001b[1m0s\u001b[0m 65ms/step - loss: 489012864.0000 - mae: 13188.3477 - val_loss: 343183456.0000 - val_mae: 9351.8389\n",
      "Epoch 20/100\n",
      "\u001b[1m3/3\u001b[0m \u001b[32m━━━━━━━━━━━━━━━━━━━━\u001b[0m\u001b[37m\u001b[0m \u001b[1m0s\u001b[0m 68ms/step - loss: 519711040.0000 - mae: 13470.9814 - val_loss: 343177472.0000 - val_mae: 9351.5352\n",
      "Epoch 21/100\n",
      "\u001b[1m3/3\u001b[0m \u001b[32m━━━━━━━━━━━━━━━━━━━━\u001b[0m\u001b[37m\u001b[0m \u001b[1m0s\u001b[0m 87ms/step - loss: 536212672.0000 - mae: 13529.1904 - val_loss: 343170976.0000 - val_mae: 9351.2031\n",
      "Epoch 22/100\n",
      "\u001b[1m3/3\u001b[0m \u001b[32m━━━━━━━━━━━━━━━━━━━━\u001b[0m\u001b[37m\u001b[0m \u001b[1m0s\u001b[0m 67ms/step - loss: 455001504.0000 - mae: 13083.2461 - val_loss: 343163968.0000 - val_mae: 9350.8467\n",
      "Epoch 23/100\n",
      "\u001b[1m3/3\u001b[0m \u001b[32m━━━━━━━━━━━━━━━━━━━━\u001b[0m\u001b[37m\u001b[0m \u001b[1m0s\u001b[0m 67ms/step - loss: 481420288.0000 - mae: 12846.0986 - val_loss: 343156288.0000 - val_mae: 9350.4561\n",
      "Epoch 24/100\n",
      "\u001b[1m3/3\u001b[0m \u001b[32m━━━━━━━━━━━━━━━━━━━━\u001b[0m\u001b[37m\u001b[0m \u001b[1m0s\u001b[0m 70ms/step - loss: 558300224.0000 - mae: 14227.0205 - val_loss: 343148064.0000 - val_mae: 9350.0352\n",
      "Epoch 25/100\n",
      "\u001b[1m3/3\u001b[0m \u001b[32m━━━━━━━━━━━━━━━━━━━━\u001b[0m\u001b[37m\u001b[0m \u001b[1m0s\u001b[0m 60ms/step - loss: 585286336.0000 - mae: 14222.2637 - val_loss: 343139104.0000 - val_mae: 9349.5820\n",
      "Epoch 26/100\n",
      "\u001b[1m3/3\u001b[0m \u001b[32m━━━━━━━━━━━━━━━━━━━━\u001b[0m\u001b[37m\u001b[0m \u001b[1m0s\u001b[0m 72ms/step - loss: 527383552.0000 - mae: 13322.6387 - val_loss: 343129600.0000 - val_mae: 9349.1006\n",
      "Epoch 27/100\n",
      "\u001b[1m3/3\u001b[0m \u001b[32m━━━━━━━━━━━━━━━━━━━━\u001b[0m\u001b[37m\u001b[0m \u001b[1m0s\u001b[0m 55ms/step - loss: 488460864.0000 - mae: 13520.5049 - val_loss: 343119456.0000 - val_mae: 9348.5840\n",
      "Epoch 28/100\n",
      "\u001b[1m3/3\u001b[0m \u001b[32m━━━━━━━━━━━━━━━━━━━━\u001b[0m\u001b[37m\u001b[0m \u001b[1m0s\u001b[0m 67ms/step - loss: 523570240.0000 - mae: 13862.5518 - val_loss: 343108512.0000 - val_mae: 9348.0244\n",
      "Epoch 29/100\n",
      "\u001b[1m3/3\u001b[0m \u001b[32m━━━━━━━━━━━━━━━━━━━━\u001b[0m\u001b[37m\u001b[0m \u001b[1m0s\u001b[0m 97ms/step - loss: 559430464.0000 - mae: 14063.1201 - val_loss: 343096640.0000 - val_mae: 9347.4229\n",
      "Epoch 30/100\n",
      "\u001b[1m3/3\u001b[0m \u001b[32m━━━━━━━━━━━━━━━━━━━━\u001b[0m\u001b[37m\u001b[0m \u001b[1m0s\u001b[0m 74ms/step - loss: 521541760.0000 - mae: 13581.1953 - val_loss: 343084224.0000 - val_mae: 9346.7871\n",
      "Epoch 31/100\n",
      "\u001b[1m3/3\u001b[0m \u001b[32m━━━━━━━━━━━━━━━━━━━━\u001b[0m\u001b[37m\u001b[0m \u001b[1m0s\u001b[0m 56ms/step - loss: 514049600.0000 - mae: 13493.6797 - val_loss: 343070912.0000 - val_mae: 9346.1104\n",
      "Epoch 32/100\n",
      "\u001b[1m3/3\u001b[0m \u001b[32m━━━━━━━━━━━━━━━━━━━━\u001b[0m\u001b[37m\u001b[0m \u001b[1m0s\u001b[0m 61ms/step - loss: 546186624.0000 - mae: 13706.4453 - val_loss: 343056736.0000 - val_mae: 9345.3848\n",
      "Epoch 33/100\n",
      "\u001b[1m3/3\u001b[0m \u001b[32m━━━━━━━━━━━━━━━━━━━━\u001b[0m\u001b[37m\u001b[0m \u001b[1m0s\u001b[0m 71ms/step - loss: 489862080.0000 - mae: 13575.0771 - val_loss: 343041504.0000 - val_mae: 9344.6094\n",
      "Epoch 34/100\n",
      "\u001b[1m3/3\u001b[0m \u001b[32m━━━━━━━━━━━━━━━━━━━━\u001b[0m\u001b[37m\u001b[0m \u001b[1m0s\u001b[0m 85ms/step - loss: 510178880.0000 - mae: 13574.5586 - val_loss: 343025248.0000 - val_mae: 9343.7812\n",
      "Epoch 35/100\n",
      "\u001b[1m3/3\u001b[0m \u001b[32m━━━━━━━━━━━━━━━━━━━━\u001b[0m\u001b[37m\u001b[0m \u001b[1m0s\u001b[0m 47ms/step - loss: 482453088.0000 - mae: 13410.1846 - val_loss: 343008000.0000 - val_mae: 9342.8994\n",
      "Epoch 36/100\n",
      "\u001b[1m3/3\u001b[0m \u001b[32m━━━━━━━━━━━━━━━━━━━━\u001b[0m\u001b[37m\u001b[0m \u001b[1m0s\u001b[0m 64ms/step - loss: 528177216.0000 - mae: 13601.9463 - val_loss: 342989536.0000 - val_mae: 9341.9580\n",
      "Epoch 37/100\n",
      "\u001b[1m3/3\u001b[0m \u001b[32m━━━━━━━━━━━━━━━━━━━━\u001b[0m\u001b[37m\u001b[0m \u001b[1m0s\u001b[0m 60ms/step - loss: 588304000.0000 - mae: 14384.7109 - val_loss: 342969856.0000 - val_mae: 9340.9521\n",
      "Epoch 38/100\n",
      "\u001b[1m3/3\u001b[0m \u001b[32m━━━━━━━━━━━━━━━━━━━━\u001b[0m\u001b[37m\u001b[0m \u001b[1m0s\u001b[0m 75ms/step - loss: 491937792.0000 - mae: 13164.5898 - val_loss: 342949280.0000 - val_mae: 9339.9004\n",
      "Epoch 39/100\n",
      "\u001b[1m3/3\u001b[0m \u001b[32m━━━━━━━━━━━━━━━━━━━━\u001b[0m\u001b[37m\u001b[0m \u001b[1m0s\u001b[0m 66ms/step - loss: 448893664.0000 - mae: 12702.4150 - val_loss: 342927328.0000 - val_mae: 9338.7842\n",
      "Epoch 40/100\n",
      "\u001b[1m3/3\u001b[0m \u001b[32m━━━━━━━━━━━━━━━━━━━━\u001b[0m\u001b[37m\u001b[0m \u001b[1m0s\u001b[0m 75ms/step - loss: 560676096.0000 - mae: 13740.2637 - val_loss: 342903936.0000 - val_mae: 9337.5859\n",
      "Epoch 41/100\n",
      "\u001b[1m3/3\u001b[0m \u001b[32m━━━━━━━━━━━━━━━━━━━━\u001b[0m\u001b[37m\u001b[0m \u001b[1m0s\u001b[0m 70ms/step - loss: 529440960.0000 - mae: 13658.1514 - val_loss: 342879424.0000 - val_mae: 9336.3340\n",
      "Epoch 42/100\n",
      "\u001b[1m3/3\u001b[0m \u001b[32m━━━━━━━━━━━━━━━━━━━━\u001b[0m\u001b[37m\u001b[0m \u001b[1m0s\u001b[0m 68ms/step - loss: 495902752.0000 - mae: 13245.6689 - val_loss: 342853472.0000 - val_mae: 9335.0078\n",
      "Epoch 43/100\n",
      "\u001b[1m3/3\u001b[0m \u001b[32m━━━━━━━━━━━━━━━━━━━━\u001b[0m\u001b[37m\u001b[0m \u001b[1m0s\u001b[0m 67ms/step - loss: 573964288.0000 - mae: 14222.5400 - val_loss: 342826016.0000 - val_mae: 9333.6074\n",
      "Epoch 44/100\n",
      "\u001b[1m3/3\u001b[0m \u001b[32m━━━━━━━━━━━━━━━━━━━━\u001b[0m\u001b[37m\u001b[0m \u001b[1m0s\u001b[0m 67ms/step - loss: 504382528.0000 - mae: 13712.6533 - val_loss: 342797472.0000 - val_mae: 9332.1426\n",
      "Epoch 45/100\n",
      "\u001b[1m3/3\u001b[0m \u001b[32m━━━━━━━━━━━━━━━━━━━━\u001b[0m\u001b[37m\u001b[0m \u001b[1m0s\u001b[0m 69ms/step - loss: 635936768.0000 - mae: 14809.6797 - val_loss: 342767104.0000 - val_mae: 9330.5947\n",
      "Epoch 46/100\n",
      "\u001b[1m3/3\u001b[0m \u001b[32m━━━━━━━━━━━━━━━━━━━━\u001b[0m\u001b[37m\u001b[0m \u001b[1m0s\u001b[0m 70ms/step - loss: 587232576.0000 - mae: 14277.2617 - val_loss: 342735744.0000 - val_mae: 9328.9902\n",
      "Epoch 47/100\n",
      "\u001b[1m3/3\u001b[0m \u001b[32m━━━━━━━━━━━━━━━━━━━━\u001b[0m\u001b[37m\u001b[0m \u001b[1m0s\u001b[0m 69ms/step - loss: 500680640.0000 - mae: 13605.8916 - val_loss: 342703136.0000 - val_mae: 9327.3213\n",
      "Epoch 48/100\n",
      "\u001b[1m3/3\u001b[0m \u001b[32m━━━━━━━━━━━━━━━━━━━━\u001b[0m\u001b[37m\u001b[0m \u001b[1m0s\u001b[0m 68ms/step - loss: 499976832.0000 - mae: 13193.7314 - val_loss: 342669024.0000 - val_mae: 9325.5742\n",
      "Epoch 49/100\n",
      "\u001b[1m3/3\u001b[0m \u001b[32m━━━━━━━━━━━━━━━━━━━━\u001b[0m\u001b[37m\u001b[0m \u001b[1m0s\u001b[0m 61ms/step - loss: 399677952.0000 - mae: 11762.3877 - val_loss: 342633600.0000 - val_mae: 9323.7598\n",
      "Epoch 50/100\n",
      "\u001b[1m3/3\u001b[0m \u001b[32m━━━━━━━━━━━━━━━━━━━━\u001b[0m\u001b[37m\u001b[0m \u001b[1m0s\u001b[0m 70ms/step - loss: 582681344.0000 - mae: 13966.0811 - val_loss: 342595744.0000 - val_mae: 9321.8164\n",
      "Epoch 51/100\n",
      "\u001b[1m3/3\u001b[0m \u001b[32m━━━━━━━━━━━━━━━━━━━━\u001b[0m\u001b[37m\u001b[0m \u001b[1m0s\u001b[0m 81ms/step - loss: 597811840.0000 - mae: 14627.1953 - val_loss: 342556256.0000 - val_mae: 9319.7939\n",
      "Epoch 52/100\n",
      "\u001b[1m3/3\u001b[0m \u001b[32m━━━━━━━━━━━━━━━━━━━━\u001b[0m\u001b[37m\u001b[0m \u001b[1m0s\u001b[0m 81ms/step - loss: 617310976.0000 - mae: 15021.8848 - val_loss: 342515392.0000 - val_mae: 9317.6992\n",
      "Epoch 53/100\n",
      "\u001b[1m3/3\u001b[0m \u001b[32m━━━━━━━━━━━━━━━━━━━━\u001b[0m\u001b[37m\u001b[0m \u001b[1m0s\u001b[0m 49ms/step - loss: 665985856.0000 - mae: 15522.5918 - val_loss: 342472640.0000 - val_mae: 9315.5117\n",
      "Epoch 54/100\n",
      "\u001b[1m3/3\u001b[0m \u001b[32m━━━━━━━━━━━━━━━━━━━━\u001b[0m\u001b[37m\u001b[0m \u001b[1m0s\u001b[0m 75ms/step - loss: 495656192.0000 - mae: 13402.5283 - val_loss: 342429248.0000 - val_mae: 9313.2910\n",
      "Epoch 55/100\n",
      "\u001b[1m3/3\u001b[0m \u001b[32m━━━━━━━━━━━━━━━━━━━━\u001b[0m\u001b[37m\u001b[0m \u001b[1m0s\u001b[0m 66ms/step - loss: 484792416.0000 - mae: 12868.8818 - val_loss: 342383872.0000 - val_mae: 9310.9648\n",
      "Epoch 56/100\n",
      "\u001b[1m3/3\u001b[0m \u001b[32m━━━━━━━━━━━━━━━━━━━━\u001b[0m\u001b[37m\u001b[0m \u001b[1m0s\u001b[0m 59ms/step - loss: 702583744.0000 - mae: 15428.9570 - val_loss: 342335392.0000 - val_mae: 9308.4814\n",
      "Epoch 57/100\n",
      "\u001b[1m3/3\u001b[0m \u001b[32m━━━━━━━━━━━━━━━━━━━━\u001b[0m\u001b[37m\u001b[0m \u001b[1m0s\u001b[0m 74ms/step - loss: 610784960.0000 - mae: 14946.5400 - val_loss: 342285664.0000 - val_mae: 9305.9307\n",
      "Epoch 58/100\n",
      "\u001b[1m3/3\u001b[0m \u001b[32m━━━━━━━━━━━━━━━━━━━━\u001b[0m\u001b[37m\u001b[0m \u001b[1m0s\u001b[0m 78ms/step - loss: 386721152.0000 - mae: 12289.5312 - val_loss: 342235680.0000 - val_mae: 9303.3672\n",
      "Epoch 59/100\n",
      "\u001b[1m3/3\u001b[0m \u001b[32m━━━━━━━━━━━━━━━━━━━━\u001b[0m\u001b[37m\u001b[0m \u001b[1m0s\u001b[0m 64ms/step - loss: 474332224.0000 - mae: 12940.0371 - val_loss: 342182720.0000 - val_mae: 9300.6484\n",
      "Epoch 60/100\n",
      "\u001b[1m3/3\u001b[0m \u001b[32m━━━━━━━━━━━━━━━━━━━━\u001b[0m\u001b[37m\u001b[0m \u001b[1m0s\u001b[0m 61ms/step - loss: 608272896.0000 - mae: 15182.7119 - val_loss: 342126688.0000 - val_mae: 9297.7734\n",
      "Epoch 61/100\n",
      "\u001b[1m3/3\u001b[0m \u001b[32m━━━━━━━━━━━━━━━━━━━━\u001b[0m\u001b[37m\u001b[0m \u001b[1m0s\u001b[0m 72ms/step - loss: 561633664.0000 - mae: 13836.5332 - val_loss: 342069344.0000 - val_mae: 9294.8291\n",
      "Epoch 62/100\n",
      "\u001b[1m3/3\u001b[0m \u001b[32m━━━━━━━━━━━━━━━━━━━━\u001b[0m\u001b[37m\u001b[0m \u001b[1m0s\u001b[0m 71ms/step - loss: 371933440.0000 - mae: 11943.7734 - val_loss: 342011200.0000 - val_mae: 9291.8408\n",
      "Epoch 63/100\n",
      "\u001b[1m3/3\u001b[0m \u001b[32m━━━━━━━━━━━━━━━━━━━━\u001b[0m\u001b[37m\u001b[0m \u001b[1m0s\u001b[0m 69ms/step - loss: 476131616.0000 - mae: 12828.0547 - val_loss: 341949632.0000 - val_mae: 9288.6797\n",
      "Epoch 64/100\n",
      "\u001b[1m3/3\u001b[0m \u001b[32m━━━━━━━━━━━━━━━━━━━━\u001b[0m\u001b[37m\u001b[0m \u001b[1m0s\u001b[0m 75ms/step - loss: 570577024.0000 - mae: 14082.0703 - val_loss: 341885248.0000 - val_mae: 9285.3682\n",
      "Epoch 65/100\n",
      "\u001b[1m3/3\u001b[0m \u001b[32m━━━━━━━━━━━━━━━━━━━━\u001b[0m\u001b[37m\u001b[0m \u001b[1m0s\u001b[0m 62ms/step - loss: 527545856.0000 - mae: 13235.9180 - val_loss: 341819200.0000 - val_mae: 9281.9727\n",
      "Epoch 66/100\n",
      "\u001b[1m3/3\u001b[0m \u001b[32m━━━━━━━━━━━━━━━━━━━━\u001b[0m\u001b[37m\u001b[0m \u001b[1m0s\u001b[0m 65ms/step - loss: 470258272.0000 - mae: 12878.6406 - val_loss: 341751552.0000 - val_mae: 9278.4902\n",
      "Epoch 67/100\n",
      "\u001b[1m3/3\u001b[0m \u001b[32m━━━━━━━━━━━━━━━━━━━━\u001b[0m\u001b[37m\u001b[0m \u001b[1m0s\u001b[0m 82ms/step - loss: 415190720.0000 - mae: 12365.6240 - val_loss: 341681984.0000 - val_mae: 9274.9111\n",
      "Epoch 68/100\n",
      "\u001b[1m3/3\u001b[0m \u001b[32m━━━━━━━━━━━━━━━━━━━━\u001b[0m\u001b[37m\u001b[0m \u001b[1m0s\u001b[0m 70ms/step - loss: 451015296.0000 - mae: 12364.1797 - val_loss: 341609536.0000 - val_mae: 9271.1816\n",
      "Epoch 69/100\n",
      "\u001b[1m3/3\u001b[0m \u001b[32m━━━━━━━━━━━━━━━━━━━━\u001b[0m\u001b[37m\u001b[0m \u001b[1m0s\u001b[0m 65ms/step - loss: 596889600.0000 - mae: 14566.0459 - val_loss: 341533600.0000 - val_mae: 9267.2695\n",
      "Epoch 70/100\n",
      "\u001b[1m3/3\u001b[0m \u001b[32m━━━━━━━━━━━━━━━━━━━━\u001b[0m\u001b[37m\u001b[0m \u001b[1m0s\u001b[0m 56ms/step - loss: 576664832.0000 - mae: 14425.3008 - val_loss: 341456224.0000 - val_mae: 9263.2832\n",
      "Epoch 71/100\n",
      "\u001b[1m3/3\u001b[0m \u001b[32m━━━━━━━━━━━━━━━━━━━━\u001b[0m\u001b[37m\u001b[0m \u001b[1m0s\u001b[0m 83ms/step - loss: 670203776.0000 - mae: 15109.6270 - val_loss: 341376640.0000 - val_mae: 9259.1787\n",
      "Epoch 72/100\n",
      "\u001b[1m3/3\u001b[0m \u001b[32m━━━━━━━━━━━━━━━━━━━━\u001b[0m\u001b[37m\u001b[0m \u001b[1m0s\u001b[0m 74ms/step - loss: 464542848.0000 - mae: 12974.5029 - val_loss: 341296928.0000 - val_mae: 9255.0654\n",
      "Epoch 73/100\n",
      "\u001b[1m3/3\u001b[0m \u001b[32m━━━━━━━━━━━━━━━━━━━━\u001b[0m\u001b[37m\u001b[0m \u001b[1m0s\u001b[0m 79ms/step - loss: 551497024.0000 - mae: 13775.5156 - val_loss: 341213856.0000 - val_mae: 9250.7783\n",
      "Epoch 74/100\n",
      "\u001b[1m3/3\u001b[0m \u001b[32m━━━━━━━━━━━━━━━━━━━━\u001b[0m\u001b[37m\u001b[0m \u001b[1m0s\u001b[0m 70ms/step - loss: 477802208.0000 - mae: 13142.4893 - val_loss: 341128672.0000 - val_mae: 9246.3799\n",
      "Epoch 75/100\n",
      "\u001b[1m3/3\u001b[0m \u001b[32m━━━━━━━━━━━━━━━━━━━━\u001b[0m\u001b[37m\u001b[0m \u001b[1m0s\u001b[0m 72ms/step - loss: 445538624.0000 - mae: 12863.4961 - val_loss: 341040672.0000 - val_mae: 9241.8340\n",
      "Epoch 76/100\n",
      "\u001b[1m3/3\u001b[0m \u001b[32m━━━━━━━━━━━━━━━━━━━━\u001b[0m\u001b[37m\u001b[0m \u001b[1m0s\u001b[0m 78ms/step - loss: 544032832.0000 - mae: 14182.0771 - val_loss: 340948768.0000 - val_mae: 9237.0840\n",
      "Epoch 77/100\n",
      "\u001b[1m3/3\u001b[0m \u001b[32m━━━━━━━━━━━━━━━━━━━━\u001b[0m\u001b[37m\u001b[0m \u001b[1m0s\u001b[0m 68ms/step - loss: 510270400.0000 - mae: 13525.6094 - val_loss: 340855392.0000 - val_mae: 9232.2559\n",
      "Epoch 78/100\n",
      "\u001b[1m3/3\u001b[0m \u001b[32m━━━━━━━━━━━━━━━━━━━━\u001b[0m\u001b[37m\u001b[0m \u001b[1m0s\u001b[0m 69ms/step - loss: 499740960.0000 - mae: 13024.6152 - val_loss: 340759296.0000 - val_mae: 9227.2822\n",
      "Epoch 79/100\n",
      "\u001b[1m3/3\u001b[0m \u001b[32m━━━━━━━━━━━━━━━━━━━━\u001b[0m\u001b[37m\u001b[0m \u001b[1m0s\u001b[0m 74ms/step - loss: 516290048.0000 - mae: 13352.1035 - val_loss: 340659648.0000 - val_mae: 9222.1260\n",
      "Epoch 80/100\n",
      "\u001b[1m3/3\u001b[0m \u001b[32m━━━━━━━━━━━━━━━━━━━━\u001b[0m\u001b[37m\u001b[0m \u001b[1m0s\u001b[0m 65ms/step - loss: 595519680.0000 - mae: 14292.1963 - val_loss: 340556864.0000 - val_mae: 9216.8027\n",
      "Epoch 81/100\n",
      "\u001b[1m3/3\u001b[0m \u001b[32m━━━━━━━━━━━━━━━━━━━━\u001b[0m\u001b[37m\u001b[0m \u001b[1m0s\u001b[0m 69ms/step - loss: 439351456.0000 - mae: 12656.6416 - val_loss: 340453248.0000 - val_mae: 9211.4307\n",
      "Epoch 82/100\n",
      "\u001b[1m3/3\u001b[0m \u001b[32m━━━━━━━━━━━━━━━━━━━━\u001b[0m\u001b[37m\u001b[0m \u001b[1m0s\u001b[0m 72ms/step - loss: 567353152.0000 - mae: 14349.3848 - val_loss: 340344512.0000 - val_mae: 9205.7949\n",
      "Epoch 83/100\n",
      "\u001b[1m3/3\u001b[0m \u001b[32m━━━━━━━━━━━━━━━━━━━━\u001b[0m\u001b[37m\u001b[0m \u001b[1m0s\u001b[0m 77ms/step - loss: 500478016.0000 - mae: 13433.0684 - val_loss: 340234560.0000 - val_mae: 9200.0898\n",
      "Epoch 84/100\n",
      "\u001b[1m3/3\u001b[0m \u001b[32m━━━━━━━━━━━━━━━━━━━━\u001b[0m\u001b[37m\u001b[0m \u001b[1m0s\u001b[0m 64ms/step - loss: 485110144.0000 - mae: 13261.9961 - val_loss: 340121920.0000 - val_mae: 9194.2422\n",
      "Epoch 85/100\n",
      "\u001b[1m3/3\u001b[0m \u001b[32m━━━━━━━━━━━━━━━━━━━━\u001b[0m\u001b[37m\u001b[0m \u001b[1m0s\u001b[0m 85ms/step - loss: 344898688.0000 - mae: 11150.9062 - val_loss: 340008544.0000 - val_mae: 9188.3516\n",
      "Epoch 86/100\n",
      "\u001b[1m3/3\u001b[0m \u001b[32m━━━━━━━━━━━━━━━━━━━━\u001b[0m\u001b[37m\u001b[0m \u001b[1m0s\u001b[0m 59ms/step - loss: 523189952.0000 - mae: 13149.0898 - val_loss: 339888096.0000 - val_mae: 9182.0859\n",
      "Epoch 87/100\n",
      "\u001b[1m3/3\u001b[0m \u001b[32m━━━━━━━━━━━━━━━━━━━━\u001b[0m\u001b[37m\u001b[0m \u001b[1m0s\u001b[0m 62ms/step - loss: 536957568.0000 - mae: 13824.9570 - val_loss: 339765600.0000 - val_mae: 9175.7168\n",
      "Epoch 88/100\n",
      "\u001b[1m3/3\u001b[0m \u001b[32m━━━━━━━━━━━━━━━━━━━━\u001b[0m\u001b[37m\u001b[0m \u001b[1m0s\u001b[0m 78ms/step - loss: 551623872.0000 - mae: 13926.4336 - val_loss: 339639936.0000 - val_mae: 9169.1729\n",
      "Epoch 89/100\n",
      "\u001b[1m3/3\u001b[0m \u001b[32m━━━━━━━━━━━━━━━━━━━━\u001b[0m\u001b[37m\u001b[0m \u001b[1m0s\u001b[0m 61ms/step - loss: 506217856.0000 - mae: 13289.3057 - val_loss: 339512384.0000 - val_mae: 9162.5273\n",
      "Epoch 90/100\n",
      "\u001b[1m3/3\u001b[0m \u001b[32m━━━━━━━━━━━━━━━━━━━━\u001b[0m\u001b[37m\u001b[0m \u001b[1m0s\u001b[0m 63ms/step - loss: 462765152.0000 - mae: 12755.0039 - val_loss: 339383008.0000 - val_mae: 9155.7812\n",
      "Epoch 91/100\n",
      "\u001b[1m3/3\u001b[0m \u001b[32m━━━━━━━━━━━━━━━━━━━━\u001b[0m\u001b[37m\u001b[0m \u001b[1m0s\u001b[0m 81ms/step - loss: 501449760.0000 - mae: 13151.2285 - val_loss: 339248736.0000 - val_mae: 9148.7754\n",
      "Epoch 92/100\n",
      "\u001b[1m3/3\u001b[0m \u001b[32m━━━━━━━━━━━━━━━━━━━━\u001b[0m\u001b[37m\u001b[0m \u001b[1m0s\u001b[0m 74ms/step - loss: 433996416.0000 - mae: 12110.1133 - val_loss: 339112160.0000 - val_mae: 9141.6455\n",
      "Epoch 93/100\n",
      "\u001b[1m3/3\u001b[0m \u001b[32m━━━━━━━━━━━━━━━━━━━━\u001b[0m\u001b[37m\u001b[0m \u001b[1m0s\u001b[0m 74ms/step - loss: 451096864.0000 - mae: 12484.2070 - val_loss: 338971968.0000 - val_mae: 9134.3164\n",
      "Epoch 94/100\n",
      "\u001b[1m3/3\u001b[0m \u001b[32m━━━━━━━━━━━━━━━━━━━━\u001b[0m\u001b[37m\u001b[0m \u001b[1m0s\u001b[0m 76ms/step - loss: 522691328.0000 - mae: 13499.7070 - val_loss: 338826656.0000 - val_mae: 9126.7188\n",
      "Epoch 95/100\n",
      "\u001b[1m3/3\u001b[0m \u001b[32m━━━━━━━━━━━━━━━━━━━━\u001b[0m\u001b[37m\u001b[0m \u001b[1m0s\u001b[0m 70ms/step - loss: 440359808.0000 - mae: 12309.6406 - val_loss: 338681344.0000 - val_mae: 9119.1123\n",
      "Epoch 96/100\n",
      "\u001b[1m3/3\u001b[0m \u001b[32m━━━━━━━━━━━━━━━━━━━━\u001b[0m\u001b[37m\u001b[0m \u001b[1m0s\u001b[0m 72ms/step - loss: 495690656.0000 - mae: 13035.4199 - val_loss: 338530400.0000 - val_mae: 9111.2021\n",
      "Epoch 97/100\n",
      "\u001b[1m3/3\u001b[0m \u001b[32m━━━━━━━━━━━━━━━━━━━━\u001b[0m\u001b[37m\u001b[0m \u001b[1m0s\u001b[0m 59ms/step - loss: 521781824.0000 - mae: 13320.0498 - val_loss: 338375552.0000 - val_mae: 9103.0840\n",
      "Epoch 98/100\n",
      "\u001b[1m3/3\u001b[0m \u001b[32m━━━━━━━━━━━━━━━━━━━━\u001b[0m\u001b[37m\u001b[0m \u001b[1m0s\u001b[0m 87ms/step - loss: 430362528.0000 - mae: 12741.5078 - val_loss: 338220352.0000 - val_mae: 9094.9365\n",
      "Epoch 99/100\n",
      "\u001b[1m3/3\u001b[0m \u001b[32m━━━━━━━━━━━━━━━━━━━━\u001b[0m\u001b[37m\u001b[0m \u001b[1m0s\u001b[0m 71ms/step - loss: 618666176.0000 - mae: 14616.3096 - val_loss: 338058048.0000 - val_mae: 9086.4102\n",
      "Epoch 100/100\n",
      "\u001b[1m3/3\u001b[0m \u001b[32m━━━━━━━━━━━━━━━━━━━━\u001b[0m\u001b[37m\u001b[0m \u001b[1m0s\u001b[0m 75ms/step - loss: 541109696.0000 - mae: 13585.8447 - val_loss: 337895616.0000 - val_mae: 9077.8682\n"
     ]
    }
   ],
   "source": [
    "#Step 3: Build the Neural Network (TensorFlow)\n",
    "# Simple feedforward regression model\n",
    "model = keras.Sequential([\n",
    "    keras.layers.Dense(64, activation='relu', input_shape=(X_train.shape[1],)),\n",
    "    keras.layers.Dense(32, activation='relu'),\n",
    "    keras.layers.Dense(1)  # Output layer for regression\n",
    "])\n",
    "\n",
    "# Compile\n",
    "model.compile(optimizer='adam', loss='mse', metrics=['mae'])\n",
    "\n",
    "# Train\n",
    "history = model.fit(X_train, y_train, epochs=100, validation_split=0.2, verbose=1)"
   ]
  },
  {
   "cell_type": "code",
   "execution_count": 45,
   "id": "ee0e3dfe-661d-4227-bef0-1ff64a179243",
   "metadata": {},
   "outputs": [
    {
     "data": {
      "text/html": [
       "\n",
       "            <style>\n",
       "                .geemap-dark {\n",
       "                    --jp-widgets-color: white;\n",
       "                    --jp-widgets-label-color: white;\n",
       "                    --jp-ui-font-color1: white;\n",
       "                    --jp-layout-color2: #454545;\n",
       "                    background-color: #383838;\n",
       "                }\n",
       "\n",
       "                .geemap-dark .jupyter-button {\n",
       "                    --jp-layout-color3: #383838;\n",
       "                }\n",
       "\n",
       "                .geemap-colab {\n",
       "                    background-color: var(--colab-primary-surface-color, white);\n",
       "                }\n",
       "\n",
       "                .geemap-colab .jupyter-button {\n",
       "                    --jp-layout-color3: var(--colab-primary-surface-color, white);\n",
       "                }\n",
       "            </style>\n",
       "            "
      ],
      "text/plain": [
       "<IPython.core.display.HTML object>"
      ]
     },
     "metadata": {},
     "output_type": "display_data"
    },
    {
     "data": {
      "image/png": "[encoded data removed]",
      "text/plain": [
       "<Figure size 640x480 with 1 Axes>"
      ]
     },
     "metadata": {},
     "output_type": "display_data"
    }
   ],
   "source": [
    "#Step 4: Plot Training Results\n",
    "# Plot training loss\n",
    "plt.plot(history.history['loss'], label='Train Loss')\n",
    "plt.plot(history.history['val_loss'], label='Validation Loss')\n",
    "plt.xlabel('Epochs')\n",
    "plt.ylabel('Loss')\n",
    "plt.legend()\n",
    "plt.title('Model Training Curve')\n",
    "plt.show()"
   ]
  },
  {
   "cell_type": "code",
   "execution_count": 46,
   "id": "bc6098b7-9c74-44aa-8704-29713fdab658",
   "metadata": {},
   "outputs": [
    {
     "data": {
      "text/html": [
       "\n",
       "            <style>\n",
       "                .geemap-dark {\n",
       "                    --jp-widgets-color: white;\n",
       "                    --jp-widgets-label-color: white;\n",
       "                    --jp-ui-font-color1: white;\n",
       "                    --jp-layout-color2: #454545;\n",
       "                    background-color: #383838;\n",
       "                }\n",
       "\n",
       "                .geemap-dark .jupyter-button {\n",
       "                    --jp-layout-color3: #383838;\n",
       "                }\n",
       "\n",
       "                .geemap-colab {\n",
       "                    background-color: var(--colab-primary-surface-color, white);\n",
       "                }\n",
       "\n",
       "                .geemap-colab .jupyter-button {\n",
       "                    --jp-layout-color3: var(--colab-primary-surface-color, white);\n",
       "                }\n",
       "            </style>\n",
       "            "
      ],
      "text/plain": [
       "<IPython.core.display.HTML object>"
      ]
     },
     "metadata": {},
     "output_type": "display_data"
    },
    {
     "name": "stdout",
     "output_type": "stream",
     "text": [
      "\u001b[1m1/1\u001b[0m \u001b[32m━━━━━━━━━━━━━━━━━━━━\u001b[0m\u001b[37m\u001b[0m \u001b[1m0s\u001b[0m 103ms/step - loss: 880698880.0000 - mae: 16340.3232\n",
      "Test MAE: 16340.32 kg/ha\n"
     ]
    }
   ],
   "source": [
    "#Step 5: Evaluate on Test Set\n",
    "test_loss, test_mae = model.evaluate(X_test, y_test)\n",
    "print(f\"Test MAE: {test_mae:.2f} kg/ha\")"
   ]
  },
  {
   "cell_type": "code",
   "execution_count": 48,
   "id": "8c9b47aa-09e8-4e8e-be53-da63acfc8835",
   "metadata": {},
   "outputs": [
    {
     "data": {
      "text/html": [
       "\n",
       "            <style>\n",
       "                .geemap-dark {\n",
       "                    --jp-widgets-color: white;\n",
       "                    --jp-widgets-label-color: white;\n",
       "                    --jp-ui-font-color1: white;\n",
       "                    --jp-layout-color2: #454545;\n",
       "                    background-color: #383838;\n",
       "                }\n",
       "\n",
       "                .geemap-dark .jupyter-button {\n",
       "                    --jp-layout-color3: #383838;\n",
       "                }\n",
       "\n",
       "                .geemap-colab {\n",
       "                    background-color: var(--colab-primary-surface-color, white);\n",
       "                }\n",
       "\n",
       "                .geemap-colab .jupyter-button {\n",
       "                    --jp-layout-color3: var(--colab-primary-surface-color, white);\n",
       "                }\n",
       "            </style>\n",
       "            "
      ],
      "text/plain": [
       "<IPython.core.display.HTML object>"
      ]
     },
     "metadata": {},
     "output_type": "display_data"
    },
    {
     "name": "stderr",
     "output_type": "stream",
     "text": [
      "WARNING:absl:You are saving your model as an HDF5 file via `model.save()` or `keras.saving.save_model(model)`. This file format is considered legacy. We recommend using instead the native Keras format, e.g. `model.save('my_model.keras')` or `keras.saving.save_model(model, 'my_model.keras')`. \n"
     ]
    }
   ],
   "source": [
    "#Step 6: Save Model for Streamlit App\n",
    "model.save(\"crop_yield_model.h5\")"
   ]
  },
  {
   "cell_type": "code",
   "execution_count": 51,
   "id": "2a49aa15-a10d-43fb-b0b2-fa9743b33659",
   "metadata": {},
   "outputs": [
    {
     "data": {
      "text/html": [
       "\n",
       "            <style>\n",
       "                .geemap-dark {\n",
       "                    --jp-widgets-color: white;\n",
       "                    --jp-widgets-label-color: white;\n",
       "                    --jp-ui-font-color1: white;\n",
       "                    --jp-layout-color2: #454545;\n",
       "                    background-color: #383838;\n",
       "                }\n",
       "\n",
       "                .geemap-dark .jupyter-button {\n",
       "                    --jp-layout-color3: #383838;\n",
       "                }\n",
       "\n",
       "                .geemap-colab {\n",
       "                    background-color: var(--colab-primary-surface-color, white);\n",
       "                }\n",
       "\n",
       "                .geemap-colab .jupyter-button {\n",
       "                    --jp-layout-color3: var(--colab-primary-surface-color, white);\n",
       "                }\n",
       "            </style>\n",
       "            "
      ],
      "text/plain": [
       "<IPython.core.display.HTML object>"
      ]
     },
     "metadata": {},
     "output_type": "display_data"
    },
    {
     "name": "stdout",
     "output_type": "stream",
     "text": [
      "C:\\Users\\thris\\Documents\\Thrisha Python\\DL_Hack\\final_combined_dataset.csv\n"
     ]
    },
    {
     "data": {
      "text/html": [
       "<div>\n",
       "<style scoped>\n",
       "    .dataframe tbody tr th:only-of-type {\n",
       "        vertical-align: middle;\n",
       "    }\n",
       "\n",
       "    .dataframe tbody tr th {\n",
       "        vertical-align: top;\n",
       "    }\n",
       "\n",
       "    .dataframe thead th {\n",
       "        text-align: right;\n",
       "    }\n",
       "</style>\n",
       "<table border=\"1\" class=\"dataframe\">\n",
       "  <thead>\n",
       "    <tr style=\"text-align: right;\">\n",
       "      <th></th>\n",
       "      <th>Crop</th>\n",
       "      <th>Year</th>\n",
       "      <th>Element</th>\n",
       "      <th>Yield_kg_per_ha</th>\n",
       "      <th>Unit</th>\n",
       "      <th>DateTime</th>\n",
       "      <th>Temperature_C</th>\n",
       "      <th>Humidity_%</th>\n",
       "      <th>Rainfall_mm</th>\n",
       "      <th>NDVI_mean</th>\n",
       "    </tr>\n",
       "  </thead>\n",
       "  <tbody>\n",
       "    <tr>\n",
       "      <th>0</th>\n",
       "      <td>Apples</td>\n",
       "      <td>2013</td>\n",
       "      <td>Yield</td>\n",
       "      <td>6137.8</td>\n",
       "      <td>kg/ha</td>\n",
       "      <td>2025-06-19 09:00:00</td>\n",
       "      <td>34.19</td>\n",
       "      <td>46.0</td>\n",
       "      <td>0.57</td>\n",
       "      <td>0.2825</td>\n",
       "    </tr>\n",
       "    <tr>\n",
       "      <th>1</th>\n",
       "      <td>Apples</td>\n",
       "      <td>2014</td>\n",
       "      <td>Yield</td>\n",
       "      <td>7978.8</td>\n",
       "      <td>kg/ha</td>\n",
       "      <td>2025-06-19 12:00:00</td>\n",
       "      <td>33.78</td>\n",
       "      <td>47.0</td>\n",
       "      <td>0.78</td>\n",
       "      <td>0.2761</td>\n",
       "    </tr>\n",
       "    <tr>\n",
       "      <th>2</th>\n",
       "      <td>Apples</td>\n",
       "      <td>2015</td>\n",
       "      <td>Yield</td>\n",
       "      <td>6689.7</td>\n",
       "      <td>kg/ha</td>\n",
       "      <td>2025-06-19 15:00:00</td>\n",
       "      <td>29.31</td>\n",
       "      <td>68.0</td>\n",
       "      <td>5.65</td>\n",
       "      <td>0.2840</td>\n",
       "    </tr>\n",
       "    <tr>\n",
       "      <th>3</th>\n",
       "      <td>Apples</td>\n",
       "      <td>2016</td>\n",
       "      <td>Yield</td>\n",
       "      <td>9101.1</td>\n",
       "      <td>kg/ha</td>\n",
       "      <td>2025-06-19 18:00:00</td>\n",
       "      <td>26.72</td>\n",
       "      <td>61.0</td>\n",
       "      <td>3.64</td>\n",
       "      <td>0.2927</td>\n",
       "    </tr>\n",
       "    <tr>\n",
       "      <th>4</th>\n",
       "      <td>Apples</td>\n",
       "      <td>2017</td>\n",
       "      <td>Yield</td>\n",
       "      <td>7426.2</td>\n",
       "      <td>kg/ha</td>\n",
       "      <td>2025-06-19 21:00:00</td>\n",
       "      <td>27.28</td>\n",
       "      <td>65.0</td>\n",
       "      <td>0.10</td>\n",
       "      <td>0.2752</td>\n",
       "    </tr>\n",
       "  </tbody>\n",
       "</table>\n",
       "</div>"
      ],
      "text/plain": [
       "     Crop  Year Element  Yield_kg_per_ha   Unit             DateTime  \\\n",
       "0  Apples  2013   Yield           6137.8  kg/ha  2025-06-19 09:00:00   \n",
       "1  Apples  2014   Yield           7978.8  kg/ha  2025-06-19 12:00:00   \n",
       "2  Apples  2015   Yield           6689.7  kg/ha  2025-06-19 15:00:00   \n",
       "3  Apples  2016   Yield           9101.1  kg/ha  2025-06-19 18:00:00   \n",
       "4  Apples  2017   Yield           7426.2  kg/ha  2025-06-19 21:00:00   \n",
       "\n",
       "   Temperature_C  Humidity_%  Rainfall_mm  NDVI_mean  \n",
       "0          34.19        46.0         0.57     0.2825  \n",
       "1          33.78        47.0         0.78     0.2761  \n",
       "2          29.31        68.0         5.65     0.2840  \n",
       "3          26.72        61.0         3.64     0.2927  \n",
       "4          27.28        65.0         0.10     0.2752  "
      ]
     },
     "execution_count": 51,
     "metadata": {},
     "output_type": "execute_result"
    }
   ],
   "source": [
    "import pandas as pd\n",
    "import numpy as np\n",
    "\n",
    "# Step 1: Load the dataset\n",
    "df = pd.read_csv(\"final_combined_dataset.csv\")\n",
    "\n",
    "# Step 2: Add realistic NDVI noise around 0.2775\n",
    "# We'll use a small normal distribution centered around 0.2775 ± 0.015\n",
    "np.random.seed(42)  # For reproducibility\n",
    "df['NDVI_mean'] = np.round(np.random.normal(loc=0.2775, scale=0.01, size=len(df)), 4)\n",
    "\n",
    "# Step 3: Optional - Clip values to stay in realistic NDVI range [0.1, 0.9]\n",
    "df['NDVI_mean'] = df['NDVI_mean'].clip(lower=0.1, upper=0.9)\n",
    "\n",
    "# Step 4: Save it back\n",
    "import os\n",
    "print(os.path.abspath(\"final_combined_dataset.csv\"))\n",
    "\n",
    "# Preview\n",
    "df.head()"
   ]
  },
  {
   "cell_type": "code",
   "execution_count": null,
   "id": "c3ac750f-4623-4ee2-944d-0964f1cfac9c",
   "metadata": {},
   "outputs": [],
   "source": []
  }
 ],
 "metadata": {
  "kernelspec": {
   "display_name": "Python 3 (ipykernel)",
   "language": "python",
   "name": "python3"
  },
  "language_info": {
   "codemirror_mode": {
    "name": "ipython",
    "version": 3
   },
   "file_extension": ".py",
   "mimetype": "text/x-python",
   "name": "python",
   "nbconvert_exporter": "python",
   "pygments_lexer": "ipython3",
   "version": "3.12.7"
  }
 },
 "nbformat": 4,
 "nbformat_minor": 5
}
